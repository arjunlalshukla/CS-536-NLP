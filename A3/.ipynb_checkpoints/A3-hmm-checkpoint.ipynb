{
 "cells": [
  {
   "cell_type": "code",
   "execution_count": 2,
   "metadata": {},
   "outputs": [],
   "source": [
    "import pandas as pd\n",
    "from collections import Counter as ctr\n",
    "from operator import itemgetter"
   ]
  },
  {
   "cell_type": "code",
   "execution_count": 3,
   "metadata": {},
   "outputs": [],
   "source": [
    "train = pd.read_csv('train.txt', delimiter=' ', names=['word', 'pos', 'other'])\n",
    "train['word'] = train.word.str.lower()\n",
    "train['ppos'] = train.pos.shift(1)\n",
    "train['ppos'] = train.ppos.fillna('O')"
   ]
  },
  {
   "cell_type": "markdown",
   "metadata": {},
   "source": [
    "### Write the functions\n",
    "\n",
    "$$P(T_i|T_{i-1})$$\n",
    "\n",
    "$$P(W_i|T_i)$$"
   ]
  },
  {
   "cell_type": "code",
   "execution_count": 4,
   "metadata": {},
   "outputs": [],
   "source": [
    "smooth = 0.00001\n",
    "pos = list(set(train.pos))"
   ]
  },
  {
   "cell_type": "code",
   "execution_count": 5,
   "metadata": {},
   "outputs": [],
   "source": [
    "pos_ppos = {}\n",
    "pos_ppos_denom = {}\n",
    "for col_name in set(train.ppos):\n",
    "    sub_frame = train[train.ppos == col_name]\n",
    "    counted = ctr(sub_frame.pos)\n",
    "    pos_ppos[col_name] = counted\n",
    "    pos_ppos_denom[col_name] = len(sub_frame)\n",
    "    \n",
    "\n",
    "# conditional \n",
    "def Ptt(Ti,Tprev):\n",
    "    if Ti not in pos_ppos[Tprev]: return smooth\n",
    "    return pos_ppos[Tprev][Ti] / pos_ppos_denom[Tprev]\n",
    "\n",
    "word_pos = {}\n",
    "word_pos_denom = {}\n",
    "for col_name in set(train.pos):\n",
    "    sub_frame = train[train.pos == col_name]\n",
    "    counted = ctr(sub_frame.word)\n",
    "    word_pos[col_name] = counted\n",
    "    word_pos_denom[col_name] = len(sub_frame)\n",
    "    \n",
    "\n",
    "# conditional \n",
    "def Pwt(W, T):\n",
    "    if W not in word_pos[T]: return smooth\n",
    "    return word_pos[T][W] / word_pos_denom[T]"
   ]
  },
  {
   "cell_type": "markdown",
   "metadata": {},
   "source": [
    "### Evaluate: decode"
   ]
  },
  {
   "cell_type": "code",
   "execution_count": 6,
   "metadata": {},
   "outputs": [],
   "source": [
    "from math import log2\n",
    "\n",
    "def greedy(words):\n",
    "    hyp = []\n",
    "    tag_prev = 'O'\n",
    "    for word in words:\n",
    "        t = max([(tag, Ptt(tag, tag_prev)*Pwt(word, tag)) for tag in pos], key=lambda x: x[1])[0]\n",
    "        hyp.append(t)\n",
    "        tag_prev = t\n",
    "    return pd.Series(hyp)\n",
    "\n",
    "class Node:\n",
    "    def __init__(self, tag, prob, backptr=None):\n",
    "        self.tag = tag\n",
    "        self.prob = prob\n",
    "        self.backptr = backptr\n",
    "        \n",
    "def viterbi(words):\n",
    "    array = [Node(tag, log2(Pwt(words[0], tag))) for tag in pos]\n",
    "    for word in words[1:]:\n",
    "        col = []\n",
    "        for tag in pos:\n",
    "            col_mem = []\n",
    "            for prev in array:\n",
    "                col_mem.append(Node(tag, log2(Ptt(tag, prev.tag)) + prev.prob, prev))\n",
    "            col.append(max(col_mem, key=lambda x: x.prob))\n",
    "        for t in col: \n",
    "            t.prob += log2(Pwt(word, t.tag))\n",
    "        array = col\n",
    "    last = max(array, key=lambda x: x.prob)\n",
    "    res = []\n",
    "    while last: \n",
    "        res.append(last.tag)\n",
    "        last = last.backptr\n",
    "    res.reverse()\n",
    "    return pd.Series(res)"
   ]
  },
  {
   "cell_type": "markdown",
   "metadata": {},
   "source": [
    "### Evaluate: check accuracy\n",
    "\n",
    "- load test data\n",
    "- pass all word sequences through your hmm\n",
    "- decode\n",
    "- find the most probable sequence\n",
    "- compare to the \"gold\""
   ]
  },
  {
   "cell_type": "code",
   "execution_count": 7,
   "metadata": {},
   "outputs": [],
   "source": [
    "test = pd.read_csv('test.txt', delimiter=' ', names=['word', 'pos', 'other'])\n",
    "test['word'] = test.word.str.lower()"
   ]
  },
  {
   "cell_type": "code",
   "execution_count": 8,
   "metadata": {},
   "outputs": [],
   "source": [
    "hyp = greedy(test.word)"
   ]
  },
  {
   "cell_type": "code",
   "execution_count": 9,
   "metadata": {},
   "outputs": [
    {
     "data": {
      "text/plain": [
       "0.9055659919370158"
      ]
     },
     "execution_count": 9,
     "metadata": {},
     "output_type": "execute_result"
    }
   ],
   "source": [
    "from sklearn.metrics import accuracy_score\n",
    "\n",
    "accuracy_score(test.pos, hyp)"
   ]
  },
  {
   "cell_type": "code",
   "execution_count": 10,
   "metadata": {},
   "outputs": [
    {
     "data": {
      "text/plain": [
       "85.59999513626099"
      ]
     },
     "execution_count": 10,
     "metadata": {},
     "output_type": "execute_result"
    }
   ],
   "source": [
    "import time\n",
    "t = time.time()\n",
    "hyp = viterbi(test.word)\n",
    "time.time() - t"
   ]
  },
  {
   "cell_type": "code",
   "execution_count": 11,
   "metadata": {},
   "outputs": [
    {
     "name": "stdout",
     "output_type": "stream",
     "text": [
      "0.9230850412647487\n"
     ]
    }
   ],
   "source": [
    "from sklearn.metrics import accuracy_score\n",
    "\n",
    "test['hyp'] = hyp\n",
    "print(accuracy_score(test.pos, test.hyp))"
   ]
  },
  {
   "cell_type": "code",
   "execution_count": 19,
   "metadata": {},
   "outputs": [
    {
     "data": {
      "text/plain": [
       "[('RP', 'IN', 0.625, 20),\n",
       " ('FW', 'NNP', 0.5, 1),\n",
       " ('NNPS', 'NNS', 0.23958333333333334, 23),\n",
       " ('PDT', 'DT', 0.18181818181818182, 2),\n",
       " ('RP', 'RB', 0.09375, 3),\n",
       " ('VBN', 'VBD', 0.07808090310442145, 83),\n",
       " ('WDT', 'DT', 0.07009345794392523, 15),\n",
       " ('JJ', 'NNP', 0.06651147322913202, 200),\n",
       " ('JJS', 'RBS', 0.06493506493506493, 5),\n",
       " ('NN', 'NNP', 0.06341181568684097, 439),\n",
       " ('VBP', 'VB', 0.06274509803921569, 32),\n",
       " ('NNP', 'NN', 0.05535224153705398, 242),\n",
       " ('JJR', 'RBR', 0.05365853658536585, 11),\n",
       " ('PRP', 'NNP', 0.038680318543799774, 34),\n",
       " ('VBD', 'VBN', 0.03726328649969456, 61),\n",
       " ('$', 'CD', 0.03631961259079903, 15),\n",
       " ('JJ', 'NN', 0.035916195543731294, 108),\n",
       " ('WDT', 'IN', 0.03271028037383177, 7),\n",
       " ('RBR', 'JJ', 0.03225806451612903, 2),\n",
       " ('RBR', 'JJR', 0.03225806451612903, 2),\n",
       " ('VB', 'NN', 0.030959752321981424, 40),\n",
       " ('NN', 'NNS', 0.027733641484905387, 192),\n",
       " ('VB', 'VBP', 0.02631578947368421, 34),\n",
       " ('DT', 'JJ', 0.0231935771632471, 104),\n",
       " ('DT', 'NNP', 0.0231935771632471, 104),\n",
       " ('RB', 'IN', 0.02165506573859242, 28),\n",
       " ('NNPS', 'NNP', 0.020833333333333332, 2),\n",
       " ('EX', 'RB', 0.02040816326530612, 1),\n",
       " ('VBG', 'NN', 0.019834710743801654, 12),\n",
       " ('RB', 'JJ', 0.019334880123743233, 25),\n",
       " ('DT', 'NN', 0.0191793041926851, 86),\n",
       " ('NNP', 'NNS', 0.018526989935956084, 81),\n",
       " ('VBZ', 'NNS', 0.018327605956471937, 16),\n",
       " ('NNP', 'JJ', 0.018298261665141813, 80),\n",
       " ('VBP', 'NN', 0.01764705882352941, 9),\n",
       " ('DT', 'CD', 0.01583407671721677, 71),\n",
       " ('VBN', 'JJ', 0.015051740357478834, 16),\n",
       " ('NNS', 'NNP', 0.013960323291697281, 38),\n",
       " ('$', 'NN', 0.012106537530266344, 5),\n",
       " ('NN', 'JJ', 0.011411237902643362, 79),\n",
       " ('VB', 'NNP', 0.010835913312693499, 14),\n",
       " ('IN', 'RB', 0.01076283987915408, 57),\n",
       " ('NNS', 'VBZ', 0.0106539309331374, 29),\n",
       " ('VBN', 'NN', 0.010348071495766699, 11),\n",
       " ('VB', 'CD', 0.010061919504643963, 13),\n",
       " ('$', 'NNP', 0.009685230024213076, 4),\n",
       " ('CD', 'JJ', 0.009609949123798756, 17),\n",
       " ('PRP', 'NN', 0.009101251422070534, 8),\n",
       " ('PRP', 'NNS', 0.009101251422070534, 8),\n",
       " ('IN', 'NNP', 0.008496978851963747, 45),\n",
       " ('VBN', 'VBG', 0.008466603951081843, 9),\n",
       " ('MD', 'NNP', 0.008385744234800839, 4),\n",
       " ('IN', 'NN', 0.007930513595166163, 42),\n",
       " ('VBN', 'NNP', 0.007525870178739417, 8),\n",
       " ('TO', 'NNS', 0.00749375520399667, 9),\n",
       " (',', 'NNP', 0.007328990228013029, 18),\n",
       " ('$', 'JJ', 0.007263922518159807, 3),\n",
       " ('IN', 'VBG', 0.006986404833836858, 37),\n",
       " ('VB', 'JJ', 0.00696594427244582, 9),\n",
       " ('JJ', 'NNS', 0.006651147322913203, 20),\n",
       " ('VBN', 'NNS', 0.00658513640639699, 7),\n",
       " ('VBN', 'VB', 0.00658513640639699, 7),\n",
       " ('DT', 'VBN', 0.006467439785905442, 29),\n",
       " ('JJ', 'VBN', 0.006318589956767542, 19),\n",
       " ('MD', 'NNS', 0.006289308176100629, 3),\n",
       " ('NNS', 'NNPS', 0.006245407788390889, 17),\n",
       " ('JJ', 'RB', 0.005986032590621883, 18),\n",
       " ('VBP', 'JJ', 0.0058823529411764705, 3),\n",
       " ('DT', 'VBG', 0.005798394290811775, 26),\n",
       " ('PRP', 'CD', 0.005688282138794084, 5),\n",
       " ('JJ', 'CD', 0.005653475224476222, 17),\n",
       " ('CD', 'NN', 0.005652911249293386, 10),\n",
       " ('VBN', 'CD', 0.005644402634054563, 6),\n",
       " ('VB', 'RB', 0.005417956656346749, 7),\n",
       " ('NNP', 'CD', 0.005032021957913998, 22),\n",
       " ('VBG', 'NNP', 0.0049586776859504135, 3),\n",
       " ('VBD', 'VBZ', 0.004886988393402566, 8),\n",
       " ('DT', 'IN', 0.004683318465655665, 21),\n",
       " ('JJ', 'VBG', 0.004655803126039242, 14),\n",
       " ('RB', 'NN', 0.004640371229698376, 6),\n",
       " ('RB', 'VBN', 0.004640371229698376, 6),\n",
       " ('POS', \"''\", 0.004608294930875576, 2),\n",
       " ('VBZ', 'NN', 0.004581901489117984, 4),\n",
       " ('VBZ', 'POS', 0.004581901489117984, 4),\n",
       " ('PRP', 'JJ', 0.004550625711035267, 4),\n",
       " (',', 'NN', 0.004478827361563518, 11),\n",
       " ('NN', 'VBG', 0.004477827531417016, 31),\n",
       " ('NNP', 'NNPS', 0.00434583714547118, 19),\n",
       " ('IN', 'VBN', 0.004342900302114804, 23),\n",
       " ('VBD', 'NNP', 0.004276114844227245, 7),\n",
       " (':', 'VBN', 0.004219409282700422, 1),\n",
       " ('NN', 'CD', 0.004188935432615918, 29),\n",
       " ('TO', 'JJ', 0.004163197335553705, 5),\n",
       " ('TO', 'NN', 0.004163197335553705, 5),\n",
       " ('VB', 'NNS', 0.003869969040247678, 5),\n",
       " ('VBD', 'VBP', 0.0036652412950519244, 6),\n",
       " (',', 'NNS', 0.0036644951140065146, 9),\n",
       " ('NN', 'VBN', 0.0036111512350137224, 25),\n",
       " ('VBZ', 'VBP', 0.003436426116838488, 3),\n",
       " ('DT', 'RB', 0.003345227475468332, 15),\n",
       " ('NN', 'VBP', 0.0031778130868120756, 22),\n",
       " (\"''\", 'JJ', 0.0031645569620253164, 1),\n",
       " (\"''\", 'VBD', 0.0031645569620253164, 1),\n",
       " ('DT', 'NNS', 0.0031222123104371097, 14),\n",
       " ('RB', 'VBG', 0.0030935808197989174, 4),\n",
       " ('``', 'VBG', 0.003076923076923077, 1),\n",
       " ('``', 'NNP', 0.003076923076923077, 1),\n",
       " ('NN', 'VB', 0.003033367037411527, 21),\n",
       " ('IN', 'VBD', 0.0030211480362537764, 16),\n",
       " ('DT', 'VB', 0.0028991971454058875, 13),\n",
       " (',', 'VBD', 0.0028501628664495114, 7),\n",
       " ('IN', 'JJ', 0.0028323262839879152, 15),\n",
       " ('CD', 'NNP', 0.002826455624646693, 5),\n",
       " ('VBN', 'VBZ', 0.0028222013170272815, 3),\n",
       " ('NNP', 'VBD', 0.0027447392497712718, 12),\n",
       " ('NNP', 'RB', 0.0027447392497712718, 12),\n",
       " ('CC', 'DT', 0.0024691358024691358, 3),\n",
       " ('NN', 'NNPS', 0.002455582839809331, 17),\n",
       " ('NN', 'RB', 0.002455582839809331, 17),\n",
       " ('VBD', 'NN', 0.002443494196701283, 4),\n",
       " ('VBD', 'NNS', 0.002443494196701283, 4),\n",
       " ('$', 'VBP', 0.002421307506053269, 1),\n",
       " ('$', 'VBN', 0.002421307506053269, 1),\n",
       " ('RB', 'NNS', 0.002320185614849188, 3),\n",
       " ('RB', 'DT', 0.002320185614849188, 3),\n",
       " ('POS', 'NN', 0.002304147465437788, 1),\n",
       " ('POS', 'VBZ', 0.002304147465437788, 1),\n",
       " ('VBZ', 'JJ', 0.002290950744558992, 2),\n",
       " ('VBZ', 'VBD', 0.002290950744558992, 2),\n",
       " ('VBZ', 'RB', 0.002290950744558992, 2),\n",
       " ('VBZ', 'NNP', 0.002290950744558992, 2),\n",
       " ('NNP', 'VBN', 0.0022872827081427266, 10),\n",
       " ('PRP', 'PRP$', 0.0022753128555176336, 2),\n",
       " ('PRP', 'RB', 0.0022753128555176336, 2),\n",
       " ('IN', 'NNS', 0.0022658610271903325, 12),\n",
       " ('IN', 'VB', 0.0022658610271903325, 12),\n",
       " ('MD', 'NN', 0.0020964360587002098, 1),\n",
       " ('MD', 'VBZ', 0.0020964360587002098, 1),\n",
       " ('MD', 'RB', 0.0020964360587002098, 1),\n",
       " ('NNP', 'VBG', 0.0020585544373284536, 9),\n",
       " (',', 'VBN', 0.002035830618892508, 5),\n",
       " ('.', 'NN', 0.00200300450676014, 4),\n",
       " ('.', 'VBN', 0.00200300450676014, 4),\n",
       " ('.', 'NNP', 0.00200300450676014, 4),\n",
       " ('VBP', 'VBG', 0.00196078431372549, 1),\n",
       " ('VBP', 'VBD', 0.00196078431372549, 1),\n",
       " ('VBP', 'CD', 0.00196078431372549, 1),\n",
       " ('VBP', 'NNPS', 0.00196078431372549, 1),\n",
       " ('VBP', 'RB', 0.00196078431372549, 1),\n",
       " ('VBP', 'NNP', 0.00196078431372549, 1),\n",
       " ('IN', 'WDT', 0.0018882175226586104, 10),\n",
       " ('IN', 'VBZ', 0.0018882175226586104, 10),\n",
       " ('IN', 'DT', 0.0016993957703927492, 9),\n",
       " ('CD', 'VBN', 0.0016958733747880158, 3),\n",
       " ('TO', 'NNP', 0.0016652789342214821, 2),\n",
       " ('JJ', 'VB', 0.0016627868307283007, 5),\n",
       " ('VBG', 'VBP', 0.001652892561983471, 1),\n",
       " ('VBG', 'CD', 0.001652892561983471, 1),\n",
       " ('VBG', 'VB', 0.001652892561983471, 1),\n",
       " (',', 'JJ', 0.0016286644951140066, 4),\n",
       " (',', 'VBZ', 0.0016286644951140066, 4),\n",
       " (',', 'RB', 0.0016286644951140066, 4),\n",
       " ('VB', 'VBG', 0.0015479876160990713, 2),\n",
       " ('VB', 'VBN', 0.0015479876160990713, 2),\n",
       " ('RB', 'RP', 0.0015467904098994587, 2),\n",
       " ('RB', 'CD', 0.0015467904098994587, 2),\n",
       " ('RB', 'VB', 0.0015467904098994587, 2),\n",
       " ('RB', 'NNP', 0.0015467904098994587, 2),\n",
       " ('IN', 'VBP', 0.0015105740181268882, 8),\n",
       " ('.', 'NNS', 0.0015022533800701052, 3),\n",
       " ('NNS', 'NN', 0.0014695077149155032, 4),\n",
       " ('NNP', 'VB', 0.0013723696248856359, 6),\n",
       " ('JJ', 'VBD', 0.0013302294645826404, 4),\n",
       " ('JJ', 'JJS', 0.0013302294645826404, 4),\n",
       " ('VBD', 'JJ', 0.0012217470983506415, 2),\n",
       " ('VBD', 'RB', 0.0012217470983506415, 2),\n",
       " ('NN', 'VBZ', 0.0011555683952043912, 8),\n",
       " ('VBZ', 'VBG', 0.001145475372279496, 1),\n",
       " ('VBZ', 'NNPS', 0.001145475372279496, 1),\n",
       " ('PRP', 'VBG', 0.0011376564277588168, 1),\n",
       " ('PRP', 'RBS', 0.0011376564277588168, 1),\n",
       " ('PRP', 'MD', 0.0011376564277588168, 1),\n",
       " ('PRP', 'VBN', 0.0011376564277588168, 1),\n",
       " ('PRP', 'NNPS', 0.0011376564277588168, 1),\n",
       " ('CD', 'NNS', 0.0011305822498586771, 2),\n",
       " ('DT', 'VBD', 0.0011150758251561106, 5),\n",
       " ('DT', 'VBZ', 0.0011150758251561106, 5),\n",
       " ('NNS', 'VBD', 0.0011021307861866275, 3),\n",
       " ('NNS', 'VBN', 0.0011021307861866275, 3),\n",
       " ('.', 'JJ', 0.00100150225338007, 2),\n",
       " ('JJ', 'VBZ', 0.0009976720984369804, 3),\n",
       " ('VBN', 'VBP', 0.0009407337723424271, 1),\n",
       " ('VBN', 'RB', 0.0009407337723424271, 1),\n",
       " ('TO', 'VBG', 0.0008326394671107411, 1),\n",
       " ('TO', 'NNPS', 0.0008326394671107411, 1),\n",
       " ('CC', 'VB', 0.0008230452674897119, 1),\n",
       " (',', 'VB', 0.0008143322475570033, 2),\n",
       " ('VB', 'VBD', 0.0007739938080495357, 1),\n",
       " ('VB', 'VBZ', 0.0007739938080495357, 1),\n",
       " ('IN', 'CD', 0.0007552870090634441, 4),\n",
       " ('NNP', 'CC', 0.0006861848124428179, 3),\n",
       " ('NNP', 'VBZ', 0.0006861848124428179, 3),\n",
       " ('DT', 'JJR', 0.0006690454950936663, 3),\n",
       " ('JJ', 'IN', 0.0006651147322913202, 2),\n",
       " ('JJ', 'RBR', 0.0006651147322913202, 2),\n",
       " ('VBD', 'VBG', 0.0006108735491753207, 1),\n",
       " ('VBD', 'NNPS', 0.0006108735491753207, 1),\n",
       " ('VBD', 'DT', 0.0006108735491753207, 1),\n",
       " ('VBD', 'VB', 0.0006108735491753207, 1),\n",
       " ('NN', 'VBD', 0.0005777841976021956, 4),\n",
       " ('.', 'FW', 0.000500751126690035, 1),\n",
       " ('.', 'VBG', 0.000500751126690035, 1),\n",
       " ('.', 'VBD', 0.000500751126690035, 1),\n",
       " ('.', 'VBZ', 0.000500751126690035, 1),\n",
       " ('.', 'VB', 0.000500751126690035, 1),\n",
       " ('NNP', 'PRP', 0.0004574565416285453, 2),\n",
       " ('NNP', 'VBP', 0.0004574565416285453, 2),\n",
       " (',', 'VBG', 0.00040716612377850165, 1),\n",
       " (',', 'UH', 0.00040716612377850165, 1),\n",
       " ('NNS', 'JJ', 0.0003673769287288758, 1),\n",
       " ('NNS', 'VBG', 0.0003673769287288758, 1),\n",
       " ('NNS', 'RB', 0.0003673769287288758, 1),\n",
       " ('NNS', 'VB', 0.0003673769287288758, 1),\n",
       " ('NNS', ':', 0.0003673769287288758, 1),\n",
       " ('JJ', 'JJR', 0.0003325573661456601, 1),\n",
       " ('NN', 'IN', 0.0002888920988010978, 2),\n",
       " ('NN', 'JJR', 0.0002888920988010978, 2),\n",
       " ('NNP', 'FW', 0.00022872827081427266, 1),\n",
       " ('DT', 'VBP', 0.00022301516503122213, 1),\n",
       " ('IN', 'RP', 0.00018882175226586103, 1),\n",
       " ('IN', 'PRP', 0.00018882175226586103, 1),\n",
       " ('IN', 'WP$', 0.00018882175226586103, 1),\n",
       " ('IN', 'MD', 0.00018882175226586103, 1),\n",
       " ('IN', 'NNPS', 0.00018882175226586103, 1),\n",
       " ('NN', 'PDT', 0.0001444460494005489, 1),\n",
       " ('NN', 'FW', 0.0001444460494005489, 1),\n",
       " ('NN', 'MD', 0.0001444460494005489, 1),\n",
       " ('NN', 'JJS', 0.0001444460494005489, 1),\n",
       " ('NN', '(', 0.0001444460494005489, 1),\n",
       " ('NN', ':', 0.0001444460494005489, 1)]"
      ]
     },
     "execution_count": 19,
     "metadata": {},
     "output_type": "execute_result"
    }
   ],
   "source": [
    "test['hyp'].name = 'predicted'\n",
    "test['pos'].name = 'actual'\n",
    "confusion_mx = pd.crosstab(test['pos'], test['hyp'], rownames=['Actual'], colnames=['Predicted'], margins=True)\n",
    "pos = set(pos) - {\"SYM\"}\n",
    "tuples = [(predicted, actual, confusion_mx[predicted][actual]) for predicted in pos for actual in pos if actual != 'All']\n",
    "tuples = filter(lambda x: x[0] != x[1], tuples)\n",
    "tuples = [(predicted, actual, count/confusion_mx[predicted]['All'], count) for (predicted, actual, count) in tuples if count]\n",
    "sorted(tuples, key=lambda x: x[2])[::-1]"
   ]
  },
  {
   "cell_type": "markdown",
   "metadata": {},
   "source": [
    "The classifier mistook IN's (conjunction, subordinating or preposition) as being RP's (adverb, particle) 62.5% of the time it guessed RP. This is likely because some of the same words can either be a preposition or a particle (in, on, off, before, etc.). The fact that the disconnect is this high probably means that the test data does not accurately represent the training data for this particular issue. \n",
    "\n",
    "About half the time, the classifier will thnk a proper noun is a foriegn word. I find the distinction of \"foreign word\" confusing, because it doesn't communicate how the word is used at all. The classifier is also not able to capture the fact that proper nouns generally start with a capital letter (all the input is lowercased). Since this is the main identifier for proper nouns, it makes sense they would not be classified properly. The classifier only predicted foreign words twice, so there aren't any generalizations I can go off of.\n",
    "\n",
    "24% of guessed plural proper nouns are actually plural nouns. Given their contextual similarity, this is not surprising."
   ]
  },
  {
   "cell_type": "code",
   "execution_count": 21,
   "metadata": {},
   "outputs": [
    {
     "name": "stdout",
     "output_type": "stream",
     "text": [
      "=====================================================================\n",
      "Assignment: A3 HMM\n",
      "OK, version v1.13.11\n",
      "=====================================================================\n",
      "\n",
      "Successfully logged in as arjunshukla@u.boisestate.edu\n"
     ]
    }
   ],
   "source": [
    "from client.api.notebook import Notebook\n",
    "ok = Notebook('a3.ok')\n",
    "ok.auth(inline=True)"
   ]
  },
  {
   "cell_type": "code",
   "execution_count": null,
   "metadata": {},
   "outputs": [
    {
     "data": {
      "application/javascript": [
       "IPython.notebook.save_checkpoint();"
      ],
      "text/plain": [
       "<IPython.core.display.Javascript object>"
      ]
     },
     "metadata": {},
     "output_type": "display_data"
    }
   ],
   "source": [
    "ok.submit()"
   ]
  }
 ],
 "metadata": {
  "celltoolbar": "Raw Cell Format",
  "kernelspec": {
   "display_name": "Python 3",
   "language": "python",
   "name": "python3"
  },
  "language_info": {
   "codemirror_mode": {
    "name": "ipython",
    "version": 3
   },
   "file_extension": ".py",
   "mimetype": "text/x-python",
   "name": "python",
   "nbconvert_exporter": "python",
   "pygments_lexer": "ipython3",
   "version": "3.6.7"
  }
 },
 "nbformat": 4,
 "nbformat_minor": 2
}
