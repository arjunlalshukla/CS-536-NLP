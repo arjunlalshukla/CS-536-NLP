{
 "cells": [
  {
   "cell_type": "code",
   "execution_count": 93,
   "metadata": {},
   "outputs": [],
   "source": [
    "import pandas as pd\n",
    "from collections import Counter as ctr\n",
    "from operator import itemgetter"
   ]
  },
  {
   "cell_type": "code",
   "execution_count": 38,
   "metadata": {},
   "outputs": [],
   "source": [
    "train = pd.read_csv('train.txt', delimiter=' ', names=['word', 'pos', 'other'])\n",
    "train['word'] = train.word.str.lower()"
   ]
  },
  {
   "cell_type": "code",
   "execution_count": 39,
   "metadata": {},
   "outputs": [
    {
     "data": {
      "text/html": [
       "<div>\n",
       "<style scoped>\n",
       "    .dataframe tbody tr th:only-of-type {\n",
       "        vertical-align: middle;\n",
       "    }\n",
       "\n",
       "    .dataframe tbody tr th {\n",
       "        vertical-align: top;\n",
       "    }\n",
       "\n",
       "    .dataframe thead th {\n",
       "        text-align: right;\n",
       "    }\n",
       "</style>\n",
       "<table border=\"1\" class=\"dataframe\">\n",
       "  <thead>\n",
       "    <tr style=\"text-align: right;\">\n",
       "      <th></th>\n",
       "      <th>word</th>\n",
       "      <th>pos</th>\n",
       "      <th>other</th>\n",
       "    </tr>\n",
       "  </thead>\n",
       "  <tbody>\n",
       "    <tr>\n",
       "      <th>0</th>\n",
       "      <td>confidence</td>\n",
       "      <td>NN</td>\n",
       "      <td>B-NP</td>\n",
       "    </tr>\n",
       "    <tr>\n",
       "      <th>1</th>\n",
       "      <td>in</td>\n",
       "      <td>IN</td>\n",
       "      <td>B-PP</td>\n",
       "    </tr>\n",
       "    <tr>\n",
       "      <th>2</th>\n",
       "      <td>the</td>\n",
       "      <td>DT</td>\n",
       "      <td>B-NP</td>\n",
       "    </tr>\n",
       "  </tbody>\n",
       "</table>\n",
       "</div>"
      ],
      "text/plain": [
       "         word pos other\n",
       "0  confidence  NN  B-NP\n",
       "1          in  IN  B-PP\n",
       "2         the  DT  B-NP"
      ]
     },
     "execution_count": 39,
     "metadata": {},
     "output_type": "execute_result"
    }
   ],
   "source": [
    "train[:3]"
   ]
  },
  {
   "cell_type": "code",
   "execution_count": 41,
   "metadata": {},
   "outputs": [
    {
     "data": {
      "text/html": [
       "<div>\n",
       "<style scoped>\n",
       "    .dataframe tbody tr th:only-of-type {\n",
       "        vertical-align: middle;\n",
       "    }\n",
       "\n",
       "    .dataframe tbody tr th {\n",
       "        vertical-align: top;\n",
       "    }\n",
       "\n",
       "    .dataframe thead th {\n",
       "        text-align: right;\n",
       "    }\n",
       "</style>\n",
       "<table border=\"1\" class=\"dataframe\">\n",
       "  <thead>\n",
       "    <tr style=\"text-align: right;\">\n",
       "      <th></th>\n",
       "      <th>word</th>\n",
       "      <th>pos</th>\n",
       "      <th>other</th>\n",
       "      <th>ppos</th>\n",
       "    </tr>\n",
       "  </thead>\n",
       "  <tbody>\n",
       "    <tr>\n",
       "      <th>0</th>\n",
       "      <td>confidence</td>\n",
       "      <td>NN</td>\n",
       "      <td>B-NP</td>\n",
       "      <td>O</td>\n",
       "    </tr>\n",
       "    <tr>\n",
       "      <th>1</th>\n",
       "      <td>in</td>\n",
       "      <td>IN</td>\n",
       "      <td>B-PP</td>\n",
       "      <td>NN</td>\n",
       "    </tr>\n",
       "    <tr>\n",
       "      <th>2</th>\n",
       "      <td>the</td>\n",
       "      <td>DT</td>\n",
       "      <td>B-NP</td>\n",
       "      <td>IN</td>\n",
       "    </tr>\n",
       "  </tbody>\n",
       "</table>\n",
       "</div>"
      ],
      "text/plain": [
       "         word pos other ppos\n",
       "0  confidence  NN  B-NP    O\n",
       "1          in  IN  B-PP   NN\n",
       "2         the  DT  B-NP   IN"
      ]
     },
     "execution_count": 41,
     "metadata": {},
     "output_type": "execute_result"
    }
   ],
   "source": [
    "train['ppos'] = train.pos.shift(1)\n",
    "train['ppos'] = train.ppos.fillna('O')\n",
    "\n",
    "train[:3]"
   ]
  },
  {
   "cell_type": "markdown",
   "metadata": {},
   "source": [
    "### Write the functions\n",
    "\n",
    "$$P(T_i|T_{i-1})$$\n",
    "\n",
    "$$P(W_i|T_i)$$"
   ]
  },
  {
   "cell_type": "code",
   "execution_count": 74,
   "metadata": {},
   "outputs": [
    {
     "data": {
      "text/plain": [
       "['NN',\n",
       " 'NNPS',\n",
       " 'RBR',\n",
       " 'EX',\n",
       " 'WP$',\n",
       " 'MD',\n",
       " 'JJR',\n",
       " 'CD',\n",
       " ':',\n",
       " 'PDT',\n",
       " 'FW',\n",
       " 'UH',\n",
       " \"''\",\n",
       " 'TO',\n",
       " 'JJS',\n",
       " 'PRP',\n",
       " '$',\n",
       " 'SYM',\n",
       " '#',\n",
       " ',',\n",
       " 'DT',\n",
       " 'RBS',\n",
       " 'WP',\n",
       " 'VBN',\n",
       " 'VBG',\n",
       " 'VBD',\n",
       " 'WDT',\n",
       " 'JJ',\n",
       " 'IN',\n",
       " 'VBZ',\n",
       " 'NNS',\n",
       " '(',\n",
       " 'VB',\n",
       " 'PRP$',\n",
       " 'POS',\n",
       " '.',\n",
       " 'NNP',\n",
       " ')',\n",
       " 'RP',\n",
       " '``',\n",
       " 'CC',\n",
       " 'WRB',\n",
       " 'VBP',\n",
       " 'RB']"
      ]
     },
     "execution_count": 74,
     "metadata": {},
     "output_type": "execute_result"
    }
   ],
   "source": [
    "pos = list(set(train.pos))\n",
    "smooth = 0.00001\n",
    "\n",
    "pos"
   ]
  },
  {
   "cell_type": "code",
   "execution_count": 100,
   "metadata": {},
   "outputs": [],
   "source": [
    "pos_ppos = {}\n",
    "pos_ppos_denom = {}\n",
    "for col_name in set(train.ppos):\n",
    "    sub_frame = train[train.ppos == col_name]\n",
    "    counted = ctr(sub_frame.pos)\n",
    "    pos_ppos[col_name] = counted\n",
    "    pos_ppos_denom[col_name] = len(sub_frame)\n",
    "    \n",
    "\n",
    "# conditional \n",
    "def Ptt(Ti,Tprev):\n",
    "    if Ti not in pos_ppos[Tprev]: return smooth\n",
    "    return pos_ppos[Tprev][Ti] / pos_ppos_denom[Tprev]\n",
    "\n",
    "word_pos = {}\n",
    "word_pos_denom = {}\n",
    "for col_name in set(train.pos):\n",
    "    sub_frame = train[train.pos == col_name]\n",
    "    counted = ctr(sub_frame.word)\n",
    "    word_pos[col_name] = counted\n",
    "    word_pos_denom[col_name] = len(sub_frame)\n",
    "    \n",
    "\n",
    "# conditional \n",
    "def Pwt(W, T):\n",
    "    if W not in word_pos[T]: return smooth\n",
    "    return word_pos[T][W] / word_pos_denom[T]"
   ]
  },
  {
   "cell_type": "code",
   "execution_count": 78,
   "metadata": {},
   "outputs": [
    {
     "data": {
      "text/plain": [
       "0.583419689119171"
      ]
     },
     "execution_count": 78,
     "metadata": {},
     "output_type": "execute_result"
    }
   ],
   "source": [
    "Pwt('the','DT')"
   ]
  },
  {
   "cell_type": "markdown",
   "metadata": {},
   "source": [
    "### Evaluate: build the trellis\n",
    "\n",
    "- example trellis with an example sequence"
   ]
  },
  {
   "cell_type": "code",
   "execution_count": 101,
   "metadata": {},
   "outputs": [],
   "source": [
    "sequence = ['the', 'government']"
   ]
  },
  {
   "cell_type": "code",
   "execution_count": 102,
   "metadata": {},
   "outputs": [],
   "source": [
    "emissions = []\n",
    "transitions = []\n",
    "for word in sequence:\n",
    "    emission = [(t,Pwt(word, t)) for t in pos]\n",
    "    transition = [(tprev,Ptt(ti,tprev)) for ti in pos for tprev,prob in emission]\n",
    "    emissions.append(emission)\n",
    "    transitions.append(transition)"
   ]
  },
  {
   "cell_type": "markdown",
   "metadata": {},
   "source": [
    "### Evaluate: decode"
   ]
  },
  {
   "cell_type": "code",
   "execution_count": 103,
   "metadata": {},
   "outputs": [],
   "source": [
    "hyp = []\n",
    "\n",
    "for e,t in zip(emissions, transitions):\n",
    "    # argmax of e\n",
    "    e = sorted(e, key = itemgetter(1))[-1]\n",
    "    hyp.append(e)"
   ]
  },
  {
   "cell_type": "markdown",
   "metadata": {},
   "source": [
    "### Evaluate: check accuracy\n",
    "\n",
    "- load test data\n",
    "- pass all word sequences through your hmm\n",
    "- decode\n",
    "- find the most probable sequence\n",
    "- compare to the \"gold\""
   ]
  },
  {
   "cell_type": "code",
   "execution_count": 104,
   "metadata": {},
   "outputs": [
    {
     "data": {
      "text/plain": [
       "[('DT', 0.583419689119171), ('NN', 0.005738547782532259)]"
      ]
     },
     "execution_count": 104,
     "metadata": {},
     "output_type": "execute_result"
    }
   ],
   "source": [
    "hyp"
   ]
  },
  {
   "cell_type": "code",
   "execution_count": null,
   "metadata": {},
   "outputs": [],
   "source": []
  }
 ],
 "metadata": {
  "kernelspec": {
   "display_name": "Python 3",
   "language": "python",
   "name": "python3"
  },
  "language_info": {
   "codemirror_mode": {
    "name": "ipython",
    "version": 3
   },
   "file_extension": ".py",
   "mimetype": "text/x-python",
   "name": "python",
   "nbconvert_exporter": "python",
   "pygments_lexer": "ipython3",
   "version": "3.6.7"
  }
 },
 "nbformat": 4,
 "nbformat_minor": 2
}
