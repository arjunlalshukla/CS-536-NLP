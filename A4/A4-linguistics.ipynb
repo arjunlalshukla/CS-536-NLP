{
 "cells": [
  {
   "cell_type": "markdown",
   "metadata": {},
   "source": [
    "# Assignment a - Linguistics\n",
    "\n",
    "## Boise State University NLP - Dr. Kennington\n",
    "\n",
    "### Instructions and Hints:\n",
    "\n",
    "* For this assignment, we will be looking at tokenization, morphology, and syntax. \n",
    "* This will follow in a similar way as the notebook we did in class, though it will be a bit more work. \n",
    "* Answer each question (or, in some cases, follow the command)\n",
    "* Follow the instructions on the corresponding assignment Trello card for submitting your assignment."
   ]
  },
  {
   "cell_type": "markdown",
   "metadata": {},
   "source": [
    "#### We will be using **[Tamarian](https://www.youtube.com/watch?v=ANvlLcOTy6M)** as our example language: "
   ]
  },
  {
   "cell_type": "code",
   "execution_count": 34,
   "metadata": {},
   "outputs": [],
   "source": [
    "sentences = [\n",
    "    'Sinda his face black his eyes red',\n",
    "    'Tamak',\n",
    "    'The river Tamak in winter',\n",
    "    'Darmok and Jalad at Tanagra',\n",
    "    'Darmok and Jalad on the ocean',\n",
    "    'Socath his eyes opened',\n",
    "    'The beast of Tanagra Usani his army Jakka when the walls fell', # don't worry about this one\n",
    "    'Picard and Dathan at Eladrel',\n",
    "    'Marab with sails unfurled',\n",
    "    'Timba his arms open',\n",
    "    'Timba at rest'\n",
    "]\n",
    "poses = [\n",
    "    ['N', 'A', 'N', 'A', 'N', 'A'],\n",
    "    ['N'],\n",
    "    ['D', 'A', 'N', 'P', 'N'],\n",
    "    ['N', 'C', 'N', 'P', 'N'],\n",
    "    ['N', 'C', 'N', 'P', 'D', 'N'],\n",
    "    ['N', 'A', 'N', 'V'],\n",
    "    ['D', 'N', 'P', 'N', 'N', 'A', 'N', 'N', 'P', 'N', 'V'],\n",
    "    ['N', 'C', 'N', 'P', 'N'],\n",
    "    ['N', 'P', 'N', 'A'],\n",
    "    ['N', 'A', 'N', 'A'],\n",
    "    ['N', 'P', 'N']\n",
    "]"
   ]
  },
  {
   "cell_type": "markdown",
   "metadata": {},
   "source": [
    "### 1. Tokenize the sentences \n",
    "\n",
    "* you will need to make sure everything is lower case\n",
    "* you will need to represent the sentences as a 2D array of words"
   ]
  },
  {
   "cell_type": "code",
   "execution_count": 35,
   "metadata": {},
   "outputs": [
    {
     "data": {
      "text/plain": [
       "[['sinda', 'his', 'face', 'black', 'his', 'eyes', 'red'],\n",
       " ['tamak'],\n",
       " ['the', 'river', 'tamak', 'in', 'winter'],\n",
       " ['darmok', 'and', 'jalad', 'at', 'tanagra'],\n",
       " ['darmok', 'and', 'jalad', 'on', 'the', 'ocean'],\n",
       " ['socath', 'his', 'eyes', 'opened'],\n",
       " ['the',\n",
       "  'beast',\n",
       "  'of',\n",
       "  'tanagra',\n",
       "  'usani',\n",
       "  'his',\n",
       "  'army',\n",
       "  'jakka',\n",
       "  'when',\n",
       "  'the',\n",
       "  'walls',\n",
       "  'fell'],\n",
       " ['picard', 'and', 'dathan', 'at', 'eladrel'],\n",
       " ['marab', 'with', 'sails', 'unfurled'],\n",
       " ['timba', 'his', 'arms', 'open'],\n",
       " ['timba', 'at', 'rest']]"
      ]
     },
     "execution_count": 35,
     "metadata": {},
     "output_type": "execute_result"
    }
   ],
   "source": [
    "split_list = [x.lower().split() for x in sentences]\n",
    "split_list"
   ]
  },
  {
   "cell_type": "markdown",
   "metadata": {},
   "source": [
    "### 2. Use a stemmer or lemmatizer \n",
    "\n",
    "- (NLTK has several) \n",
    "-  You will know your stemmer/lemmatizer did its job because plural words will no longer be plural (e.g., 'eyes' -> 'eye') and past-tense words will no longer be past-tense (e.g. 'unfurled' -> 'unfurl')\n"
   ]
  },
  {
   "cell_type": "code",
   "execution_count": 36,
   "metadata": {},
   "outputs": [
    {
     "data": {
      "text/plain": [
       "{'and',\n",
       " 'arm',\n",
       " 'armi',\n",
       " 'at',\n",
       " 'beast',\n",
       " 'black',\n",
       " 'darmok',\n",
       " 'dathan',\n",
       " 'eladrel',\n",
       " 'eye',\n",
       " 'face',\n",
       " 'fell',\n",
       " 'his',\n",
       " 'in',\n",
       " 'jakka',\n",
       " 'jalad',\n",
       " 'marab',\n",
       " 'ocean',\n",
       " 'of',\n",
       " 'on',\n",
       " 'open',\n",
       " 'picard',\n",
       " 'red',\n",
       " 'rest',\n",
       " 'river',\n",
       " 'sail',\n",
       " 'sinda',\n",
       " 'socath',\n",
       " 'tamak',\n",
       " 'tanagra',\n",
       " 'the',\n",
       " 'timba',\n",
       " 'unfurl',\n",
       " 'usani',\n",
       " 'wall',\n",
       " 'when',\n",
       " 'winter',\n",
       " 'with'}"
      ]
     },
     "execution_count": 36,
     "metadata": {},
     "output_type": "execute_result"
    }
   ],
   "source": [
    "import nltk\n",
    "import nltk.stem.snowball as stem\n",
    "\n",
    "wnl = stem.EnglishStemmer()\n",
    "lemma_sentences = list()\n",
    "for s in split_list:\n",
    "    lemma_sentences.append([wnl.stem(t) for t in s])\n",
    "lemma_sentences.append(['timba', 'his', 'face', 'red', 'his', 'eye', 'black', 'in', 'winter'])\n",
    "words = set()\n",
    "for s in lemma_sentences:\n",
    "    words |= set(s)\n",
    "words"
   ]
  },
  {
   "cell_type": "markdown",
   "metadata": {},
   "source": [
    "### 3. Write a grammar that can parse all of the sentences\n",
    "\n",
    "* Try to write as few grammar rules as possible\n",
    "* Use recursion where you can\n",
    "* Use `S` as the start symbol\n",
    "* All terminals need to be in quotes\n"
   ]
  },
  {
   "cell_type": "code",
   "execution_count": 37,
   "metadata": {},
   "outputs": [],
   "source": [
    "import nltk\n",
    "\n",
    "tamarian_grammar = nltk.CFG.fromstring(\"\"\"\n",
    " S -> M S | M\n",
    " M -> NP V | NP | P NP\n",
    " NP -> D A NL A\n",
    " NL -> N C NL | N\n",
    " V -> 'open' | 'fell'\n",
    " N -> 'arm' | 'armi' | 'beast' | 'darmok' | 'dathan' | 'eladrel' | 'eye' | 'face' | 'fell' | 'jakka' | 'jalad' | 'marab' | 'ocean' | 'picard' | 'rest' | 'sail' | 'sinda' | 'socath' | 'tamak' | 'tanagra' | 'timba' | 'usani' | 'wall' | 'winter'\n",
    " A -> 'black' | 'his' | 'red' | 'river' | 'unfurl' |\n",
    " D -> 'the' |\n",
    " C -> 'and'\n",
    " P -> 'at' | 'in' | 'of' | 'on' | 'when' | 'with'\n",
    "\"\"\")"
   ]
  },
  {
   "cell_type": "markdown",
   "metadata": {},
   "source": [
    "## 4. Show that your grammar parses all of the sentences\n",
    "\n",
    "* Use a parser that can use a CFG (NLTK has several) \n",
    "* Make sure there is a parse tree for each of the sentences"
   ]
  },
  {
   "cell_type": "code",
   "execution_count": 38,
   "metadata": {},
   "outputs": [
    {
     "name": "stdout",
     "output_type": "stream",
     "text": [
      "['sinda', 'his', 'face', 'black', 'his', 'eye', 'red']\n",
      "(S\n",
      "  (M (NP (D ) (A ) (NL (N sinda)) (A his)))\n",
      "  (S\n",
      "    (M (NP (D ) (A ) (NL (N face)) (A black)))\n",
      "    (S (M (NP (D ) (A his) (NL (N eye)) (A red))))))\n",
      "(S\n",
      "  (M (NP (D ) (A ) (NL (N sinda)) (A )))\n",
      "  (S\n",
      "    (M (NP (D ) (A his) (NL (N face)) (A black)))\n",
      "    (S (M (NP (D ) (A his) (NL (N eye)) (A red))))))\n",
      "\n",
      "\n",
      "['tamak']\n",
      "(S (M (NP (D ) (A ) (NL (N tamak)) (A ))))\n",
      "\n",
      "\n",
      "['the', 'river', 'tamak', 'in', 'winter']\n",
      "(S\n",
      "  (M (NP (D the) (A river) (NL (N tamak)) (A )))\n",
      "  (S (M (P in) (NP (D ) (A ) (NL (N winter)) (A )))))\n",
      "\n",
      "\n",
      "['darmok', 'and', 'jalad', 'at', 'tanagra']\n",
      "(S\n",
      "  (M (NP (D ) (A ) (NL (N darmok) (C and) (NL (N jalad))) (A )))\n",
      "  (S (M (P at) (NP (D ) (A ) (NL (N tanagra)) (A )))))\n",
      "\n",
      "\n",
      "['darmok', 'and', 'jalad', 'on', 'the', 'ocean']\n",
      "(S\n",
      "  (M (NP (D ) (A ) (NL (N darmok) (C and) (NL (N jalad))) (A )))\n",
      "  (S (M (P on) (NP (D the) (A ) (NL (N ocean)) (A )))))\n",
      "\n",
      "\n",
      "['socath', 'his', 'eye', 'open']\n",
      "(S\n",
      "  (M (NP (D ) (A ) (NL (N socath)) (A )))\n",
      "  (S (M (NP (D ) (A his) (NL (N eye)) (A )) (V open))))\n",
      "(S\n",
      "  (M (NP (D ) (A ) (NL (N socath)) (A his)))\n",
      "  (S (M (NP (D ) (A ) (NL (N eye)) (A )) (V open))))\n",
      "\n",
      "\n",
      "['the', 'beast', 'of', 'tanagra', 'usani', 'his', 'armi', 'jakka', 'when', 'the', 'wall', 'fell']\n",
      "(S\n",
      "  (M (NP (D the) (A ) (NL (N beast)) (A )))\n",
      "  (S\n",
      "    (M (P of) (NP (D ) (A ) (NL (N tanagra)) (A )))\n",
      "    (S\n",
      "      (M (NP (D ) (A ) (NL (N usani)) (A his)))\n",
      "      (S\n",
      "        (M (NP (D ) (A ) (NL (N armi)) (A )))\n",
      "        (S\n",
      "          (M (NP (D ) (A ) (NL (N jakka)) (A )))\n",
      "          (S\n",
      "            (M (P when) (NP (D the) (A ) (NL (N wall)) (A )))\n",
      "            (S (M (NP (D ) (A ) (NL (N fell)) (A ))))))))))\n",
      "(S\n",
      "  (M (NP (D the) (A ) (NL (N beast)) (A )))\n",
      "  (S\n",
      "    (M (P of) (NP (D ) (A ) (NL (N tanagra)) (A )))\n",
      "    (S\n",
      "      (M (NP (D ) (A ) (NL (N usani)) (A )))\n",
      "      (S\n",
      "        (M (NP (D ) (A his) (NL (N armi)) (A )))\n",
      "        (S\n",
      "          (M (NP (D ) (A ) (NL (N jakka)) (A )))\n",
      "          (S\n",
      "            (M (P when) (NP (D the) (A ) (NL (N wall)) (A )))\n",
      "            (S (M (NP (D ) (A ) (NL (N fell)) (A ))))))))))\n",
      "\n",
      "\n",
      "['picard', 'and', 'dathan', 'at', 'eladrel']\n",
      "(S\n",
      "  (M (NP (D ) (A ) (NL (N picard) (C and) (NL (N dathan))) (A )))\n",
      "  (S (M (P at) (NP (D ) (A ) (NL (N eladrel)) (A )))))\n",
      "\n",
      "\n",
      "['marab', 'with', 'sail', 'unfurl']\n",
      "(S\n",
      "  (M (NP (D ) (A ) (NL (N marab)) (A )))\n",
      "  (S (M (P with) (NP (D ) (A ) (NL (N sail)) (A unfurl)))))\n",
      "\n",
      "\n",
      "['timba', 'his', 'arm', 'open']\n",
      "(S\n",
      "  (M (NP (D ) (A ) (NL (N timba)) (A )))\n",
      "  (S (M (NP (D ) (A his) (NL (N arm)) (A )) (V open))))\n",
      "(S\n",
      "  (M (NP (D ) (A ) (NL (N timba)) (A his)))\n",
      "  (S (M (NP (D ) (A ) (NL (N arm)) (A )) (V open))))\n",
      "\n",
      "\n",
      "['timba', 'at', 'rest']\n",
      "(S\n",
      "  (M (NP (D ) (A ) (NL (N timba)) (A )))\n",
      "  (S (M (P at) (NP (D ) (A ) (NL (N rest)) (A )))))\n",
      "\n",
      "\n",
      "['timba', 'his', 'face', 'red', 'his', 'eye', 'black', 'in', 'winter']\n",
      "(S\n",
      "  (M (NP (D ) (A ) (NL (N timba)) (A his)))\n",
      "  (S\n",
      "    (M (NP (D ) (A ) (NL (N face)) (A red)))\n",
      "    (S\n",
      "      (M (NP (D ) (A his) (NL (N eye)) (A black)))\n",
      "      (S (M (P in) (NP (D ) (A ) (NL (N winter)) (A )))))))\n",
      "(S\n",
      "  (M (NP (D ) (A ) (NL (N timba)) (A )))\n",
      "  (S\n",
      "    (M (NP (D ) (A his) (NL (N face)) (A red)))\n",
      "    (S\n",
      "      (M (NP (D ) (A his) (NL (N eye)) (A black)))\n",
      "      (S (M (P in) (NP (D ) (A ) (NL (N winter)) (A )))))))\n",
      "\n",
      "\n"
     ]
    }
   ],
   "source": [
    "parser = nltk.ChartParser(tamarian_grammar)\n",
    "for s in lemma_sentences:\n",
    "    print(s)\n",
    "    for tree in parser.parse(s):\n",
    "        print(tree)\n",
    "    print()\n",
    "    print()"
   ]
  },
  {
   "cell_type": "markdown",
   "metadata": {},
   "source": [
    "For questions 5-7, just answer in marktown/raw text. No code necessary.\n",
    "\n",
    "## 5. Does your parser have full coverage?"
   ]
  },
  {
   "cell_type": "raw",
   "metadata": {},
   "source": [
    "Every example string is parsable."
   ]
  },
  {
   "cell_type": "markdown",
   "metadata": {},
   "source": [
    "## 6. Does your parser over-generate?"
   ]
  },
  {
   "cell_type": "raw",
   "metadata": {},
   "source": [
    "There are multiple parses for several sentences."
   ]
  },
  {
   "cell_type": "markdown",
   "metadata": {},
   "source": [
    "## 7. Which sentences are ambiguous? How do you know?"
   ]
  },
  {
   "cell_type": "raw",
   "metadata": {},
   "source": [
    "These sentences are ambiguous because there are multiple possible parses for each of them: \n",
    "'Sinda his face black his eyes red'\n",
    "'Socath his eyes opened'\n",
    "'The beast of Tanagra Usani his army Jakka when the walls fell'\n",
    "'Timba his arms open'"
   ]
  },
  {
   "cell_type": "markdown",
   "metadata": {},
   "source": [
    "## 8. Parse this sentence:\n",
    "\n",
    "* If you wrote your grammar right, this should be covered. If this isn't covered, then you'll need to go back and change your grammar."
   ]
  },
  {
   "cell_type": "code",
   "execution_count": 90,
   "metadata": {},
   "outputs": [],
   "source": [
    "s = ['timba', 'his', 'face', 'red', 'his', 'eye', 'black', 'in', 'winter']"
   ]
  },
  {
   "cell_type": "code",
   "execution_count": 27,
   "metadata": {},
   "outputs": [
    {
     "name": "stdout",
     "output_type": "stream",
     "text": [
      "(S\n",
      "  (M (NP (D ) (A ) (NL (N timba)) (A his)))\n",
      "  (S\n",
      "    (M (NP (D ) (A ) (NL (N face)) (A red)))\n",
      "    (S\n",
      "      (M (NP (D ) (A his) (NL (N eye)) (A black)))\n",
      "      (S (M (P in) (NP (D ) (A ) (NL (N winter)) (A )))))))\n",
      "(S\n",
      "  (M (NP (D ) (A ) (NL (N timba)) (A )))\n",
      "  (S\n",
      "    (M (NP (D ) (A his) (NL (N face)) (A red)))\n",
      "    (S\n",
      "      (M (NP (D ) (A his) (NL (N eye)) (A black)))\n",
      "      (S (M (P in) (NP (D ) (A ) (NL (N winter)) (A )))))))\n"
     ]
    }
   ],
   "source": [
    "for tree in parser.parse(s):\n",
    "    print(tree)"
   ]
  },
  {
   "cell_type": "markdown",
   "metadata": {},
   "source": [
    "## 9. Was your result in Questions 8 ambiguous?\n",
    "\n",
    "* Answer in markdown or raw text, no code necessary"
   ]
  },
  {
   "cell_type": "raw",
   "metadata": {
    "collapsed": true
   },
   "source": [
    "Yes, there are 2 possible parse trees."
   ]
  },
  {
   "cell_type": "markdown",
   "metadata": {
    "collapsed": true
   },
   "source": [
    "## 10. How expressive is your language?\n",
    "\n",
    "* Answer in markdown or raw text, no code necessary"
   ]
  },
  {
   "cell_type": "markdown",
   "metadata": {},
   "source": [
    "I made it as limited as possible, you can only have a single adjective before and after a noun. This also decreases the ambiguity of the grammar."
   ]
  },
  {
   "cell_type": "markdown",
   "metadata": {},
   "source": [
    "## 11. Make the grammar more general by treating POS tags as the terminals"
   ]
  },
  {
   "cell_type": "code",
   "execution_count": 29,
   "metadata": {},
   "outputs": [],
   "source": [
    "tamarian_grammar = nltk.CFG.fromstring(\"\"\"\n",
    " S -> M S | M\n",
    " M -> NP 'V' | NP | 'P' NP\n",
    " NP -> D A NL A\n",
    " NL -> 'N' 'C' NL | 'N'\n",
    " D -> 'D' |\n",
    " A -> 'A' |\n",
    "\"\"\")"
   ]
  },
  {
   "cell_type": "markdown",
   "metadata": {},
   "source": [
    "## 12. What is your set of POS tags?\n",
    "\n",
    "* show the list of strings (e.g., ['Adj', ...])\n",
    "\n"
   ]
  },
  {
   "cell_type": "code",
   "execution_count": null,
   "metadata": {},
   "outputs": [],
   "source": [
    "['D', 'A', 'N', 'C', 'V', 'P']"
   ]
  },
  {
   "cell_type": "markdown",
   "metadata": {},
   "source": [
    "## 13. Make a list for the POS tags that correspond to the sentence `s` below:"
   ]
  },
  {
   "cell_type": "code",
   "execution_count": 32,
   "metadata": {},
   "outputs": [],
   "source": [
    "s = ['timba', 'his', 'face', 'red', 'his', 'eye', 'black', 'in', 'winter']\n",
    "s = ['N', 'A', 'N', 'A', 'A', 'N', 'A', 'P', 'N']"
   ]
  },
  {
   "cell_type": "markdown",
   "metadata": {},
   "source": [
    "## 14. Parse the sentence (represented as POS tags)"
   ]
  },
  {
   "cell_type": "code",
   "execution_count": 33,
   "metadata": {},
   "outputs": [
    {
     "name": "stdout",
     "output_type": "stream",
     "text": [
      "(S\n",
      "  (M (NP (D ) (A ) (NL N) (A A)))\n",
      "  (S\n",
      "    (M (NP (D ) (A ) (NL N) (A A)))\n",
      "    (S\n",
      "      (M (NP (D ) (A A) (NL N) (A A)))\n",
      "      (S (M P (NP (D ) (A ) (NL N) (A )))))))\n",
      "(S\n",
      "  (M (NP (D ) (A ) (NL N) (A )))\n",
      "  (S\n",
      "    (M (NP (D ) (A A) (NL N) (A A)))\n",
      "    (S\n",
      "      (M (NP (D ) (A A) (NL N) (A A)))\n",
      "      (S (M P (NP (D ) (A ) (NL N) (A )))))))\n"
     ]
    }
   ],
   "source": [
    "parser = nltk.ChartParser(tamarian_grammar)\n",
    "for tree in parser.parse(s):\n",
    "    print(tree)"
   ]
  },
  {
   "cell_type": "markdown",
   "metadata": {},
   "source": [
    "## Extra Credit! Do all of the above questions again, but add the sentence:\n",
    "\n",
    "'The beast of Tanagra Usani his army Jakka when the walls fell'"
   ]
  },
  {
   "cell_type": "markdown",
   "metadata": {
    "collapsed": true
   },
   "source": [
    "*Done!*"
   ]
  },
  {
   "cell_type": "markdown",
   "metadata": {},
   "source": [
    "## Submit"
   ]
  },
  {
   "cell_type": "code",
   "execution_count": null,
   "metadata": {},
   "outputs": [],
   "source": [
    "from client.api.notebook import Notebook\n",
    "ok = Notebook('a4.ok')\n",
    "ok.auth(inline=True)"
   ]
  },
  {
   "cell_type": "code",
   "execution_count": null,
   "metadata": {},
   "outputs": [],
   "source": [
    "ok.submit()"
   ]
  }
 ],
 "metadata": {
  "anaconda-cloud": {},
  "kernelspec": {
   "display_name": "Python 3",
   "language": "python",
   "name": "python3"
  },
  "language_info": {
   "codemirror_mode": {
    "name": "ipython",
    "version": 3
   },
   "file_extension": ".py",
   "mimetype": "text/x-python",
   "name": "python",
   "nbconvert_exporter": "python",
   "pygments_lexer": "ipython3",
   "version": "3.6.7"
  }
 },
 "nbformat": 4,
 "nbformat_minor": 1
}
