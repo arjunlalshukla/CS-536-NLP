{
 "cells": [
  {
   "cell_type": "markdown",
   "metadata": {},
   "source": [
    "In this assignment, you will use a pre-trained convnet to produce features for a classifier that can detect a single object type. This notebook has some code to help you get started. "
   ]
  },
  {
   "cell_type": "code",
   "execution_count": 1,
   "metadata": {
    "collapsed": true
   },
   "outputs": [],
   "source": [
    "from imutils import paths\n",
    "import pandas as pd\n",
    "import requests\n",
    "import cv2\n",
    "import os\n",
    "from os import listdir\n",
    "from os.path import isfile, join\n",
    "import os.path as osp\n",
    "from tqdm import tqdm_notebook as tqdm\n",
    "from google_images_download import google_images_download\n",
    "\n",
    "img_folder = 'downloads'"
   ]
  },
  {
   "cell_type": "code",
   "execution_count": 2,
   "metadata": {
    "collapsed": true
   },
   "outputs": [],
   "source": [
    "def build_arguments(word):\n",
    "    args = {}\n",
    "    args['keywords'] = word\n",
    "    args['limit'] = 100\n",
    "    args['format'] = 'png'\n",
    "    args['usage_rights'] = 'labeled-for-nocommercial-reuse'\n",
    "    return args\n",
    "\n",
    "response = google_images_download.googleimagesdownload()"
   ]
  },
  {
   "cell_type": "markdown",
   "metadata": {},
   "source": [
    "### Run the following two cells\n",
    "\n",
    "- change the positive and negative words\n",
    "- running each cell downloads 100 images into a `downloads` folder with a subfolder of your word\n",
    "- `word` can be any string or search criteria"
   ]
  },
  {
   "cell_type": "code",
   "execution_count": 3,
   "metadata": {
    "collapsed": false
   },
   "outputs": [
    {
     "name": "stdout",
     "output_type": "stream",
     "text": [
      "\n",
      "Item no.: 1 --> Item name = red\n",
      "Evaluating...\n",
      "Starting Download...\n",
      "Completed Image ====> 1. 2000px-color_icon_red.svg.png\n",
      "Completed Image ====> 2. shades_of_red.png\n",
      "Completed Image ====> 3. 1024px-red.svg.png\n",
      "Completed Image ====> 4. 1024px-color_icon_red.svg.png\n",
      "Completed Image ====> 5. 1024px-disc_plain_red.svg.png\n",
      "Completed Image ====> 6. 768px-disc_plain_red.svg.png\n",
      "Completed Image ====> 7. digital-art-3193928_960_720.png\n",
      "Completed Image ====> 8. 1024px-emblem-important-red.svg.png\n",
      "Completed Image ====> 9. red_and_blue_800_%c3%97_600%2c_horizontal.png\n",
      "Completed Image ====> 10. seal-1877460_960_720.png\n",
      "Completed Image ====> 11. 1024px-red_copyright.svg.png\n",
      "Completed Image ====> 12. 16134-illustration-of-a-red-heart-pv.png\n",
      "Completed Image ====> 13. overlay?src0=https%3a%2f%2fi.vimeocdn.com%2fvideo%2f725468257_1280x720.jpg&src1=https%3a%2f%2ff.vimeocdn.com%2fimages_v6%2fshare%2fplay_icon_overlay.png.jpg\n",
      "Completed Image ====> 14. background-line-pattern-colored-lines-pattern-red-1527570.png\n",
      "Completed Image ====> 15. red-number-1.png\n",
      "Completed Image ====> 16. umbrella-159361_960_720.png\n",
      "Completed Image ====> 17. red-frame-album-36fe27-1024.png\n",
      "Completed Image ====> 18. red_and_green_800_%c3%97_600%2c_horizontal.png\n",
      "Completed Image ====> 19. red-tags-vector-clipart.png\n",
      "Completed Image ====> 20. 16127-illustration-of-a-red-heart-pv.png\n",
      "Completed Image ====> 21. fruit-sculpture-strawberry-artificial-red-3497753.png\n",
      "Completed Image ====> 22. 1280px-red_army_flag.svg.png\n",
      "Completed Image ====> 23. 13494505214416.png\n",
      "Completed Image ====> 24. red-books-vector-art.png\n",
      "Completed Image ====> 25. cat-3237903_960_720.png\n",
      "Completed Image ====> 26. sleep_well_red__remake__by_angrybirdsisfan-dbnhwsq.png\n",
      "Completed Image ====> 27. flower-watercolor-red.png\n",
      "Completed Image ====> 28. 500px-bsicon_str_red.svg.png\n",
      "Completed Image ====> 29. red-gift-christmas-holidays-gift-christmas-gift-2919003.png\n",
      "Completed Image ====> 30. 634px-half-block.character.red.blue.svg.png\n",
      "Completed Image ====> 31. flower-red-plant-japanese-camellia-garden-roses-flowering-plant-flora-rose-rose-family-floribunda-close-up-theaceae-rosa-centifolia-camellia-petal-camellia-sasanqua-china-rose-rose-order-macro-photography-begonia-1443917.png\n",
      "Completed Image ====> 32. 12927-illustration-of-a-red-heart-isolated-on-a-white-background-pv.png\n",
      "Completed Image ====> 33. women_bag_png\n",
      "Completed Image ====> 34. rose-flower-white-center-red-petals-sides-double-colored-transparent-background-wild-garden-beauty-256x246.png\n",
      "Completed Image ====> 35. 13951592411451.png\n",
      "Completed Image ====> 36. apple-2850838_960_720.png\n",
      "Completed Image ====> 37. red_and_orange_800_%c3%97_600%2c_horizontal.png\n",
      "Completed Image ====> 38. light-firework-contrast-red-entertainment-darkness-night-event-performance-concert-rock-concert-lighting-performance-art-stage-midnight-singing-flare-fun-performing-arts-music-venue-fete-1457393.jpg\n",
      "Completed Image ====> 39. red_planet_with_stars_by_froggyartdesigns-dcbdbsy.png\n",
      "Completed Image ====> 40. red-and-blue-magnet-vector-clipart.png\n",
      "Completed Image ====> 41. perfume-roses-romantic-flowers-garden-nature-red-3899076.png\n",
      "Completed Image ====> 42. 450px-red_question_mark.svg.png\n",
      "Completed Image ====> 43. 11509-illustration-of-a-red-heart-pv.png\n",
      "Completed Image ====> 44. 13494500419167.png\n",
      "Completed Image ====> 45. love-you-2198772_960_720.png\n",
      "Completed Image ====> 46. red_star_png\n",
      "Completed Image ====> 47. 600px_black_%26_red_%28horizontal_stripes%29.png\n",
      "Completed Image ====> 48. red-file-folder-vector-clipart.png\n",
      "Completed Image ====> 49. 2017-12-03-17-25-26-927x900.png\n",
      "Completed Image ====> 50. heart-symbol-red-feelings-sign-holiday-love-2381669.png\n",
      "Completed Image ====> 51. 091023-f-9999g-001.jpg\n",
      "Completed Image ====> 52. 12888-illustration-of-red-hearts-pv.png\n",
      "Completed Image ====> 53. 6oq8sugoldcxrprdxeen8w26ghhpu2vilntywzlffg-ytsm_mrhp6phhvmaxgyfj1oea9tw6h2rnuoozwlosbaowz-p5=s0.jpg\n",
      "Completed Image ====> 54. 13958190619937.png\n",
      "Completed Image ====> 55. background-christmas-christmas-background-decoration-holiday-winter-xmas-celebration-snow-year-new-design-red-christmas-background-decorative-merry-greeting-color-stars-shiny-blurred-glowing-backdrop-bright-glitter-modern-glow-sparkle-effect-blur-flare-shine-beam-energy-light-vivid-red-macro-photography-close-up-computer-wallpaper-sky-sunlight-1418239.png\n",
      "Completed Image ====> 56. gift-2918982_960_720.png\n",
      "Completed Image ====> 57. 1233px-aum_red.svg.png\n",
      "Completed Image ====> 58. phone_png\n",
      "Completed Image ====> 59. red-circle-logo-cd38d4-1024.png\n",
      "Completed Image ====> 60. 1024px-windows_logo_-_2012_%28red%29.svg.png\n",
      "Completed Image ====> 61. red_blades_logo_by_hockeyblades-d62iacw.png\n",
      "Completed Image ====> 62. white-and-red-red-gift-christmas-gift-gift-2918988.png\n",
      "Completed Image ====> 63. 15481-illustration-of-a-broken-red-heart-pv.png\n",
      "Completed Image ====> 64. mdgkxb7wbdzgpvloztwi32d2nhqvtoqjfnly9rzvzagj83oy6pihco6xbqqe8g0fvpa3jfjhazbvjfe9d20-b70nrg=s0.jpg\n",
      "Completed Image ====> 65. red-1902863_960_720.png\n",
      "Completed Image ====> 66. astronaut-in-red-space-suit-vector-clipart.png\n",
      "Completed Image ====> 67. 404px-christian_cross_%28red%29.svg.png\n",
      "Completed Image ====> 68. 1212px-red_triangle.svg.png\n",
      "Completed Image ====> 69. overlay?src0=https%3a%2f%2fi.vimeocdn.com%2fvideo%2f706927585_1280x720.jpg&src1=https%3a%2f%2ff.vimeocdn.com%2fimages_v6%2fshare%2fplay_icon_overlay.png.jpg\n",
      "Completed Image ====> 70. nature-single-flower-garden-red-anemone-3753504.png\n",
      "Completed Image ====> 71. red_dragon__imitation_by_ioshk-d67efek.png\n",
      "Completed Image ====> 72. 11460-illustration-of-a-red-apple-pv.png\n",
      "Completed Image ====> 73. stamp-red-circle-8aaa2a-1024.png\n",
      "Completed Image ====> 74. sofa_png\n",
      "Completed Image ====> 75. red-146613_960_720.png\n",
      "Completed Image ====> 76. 13920255013590.png\n",
      "Completed Image ====> 77. 520px-biohazard_symbol_%28red%29.svg.png\n",
      "Completed Image ====> 78. 993px-aum_om_red.svg.png\n",
      "Completed Image ====> 79. good-luck-fortune-chinese-red-envelope.png\n",
      "Completed Image ====> 80. red-black-tree.png\n",
      "Completed Image ====> 81. le1s4yms32jmttrpoaqfhuduoitveq40zoyxn5-5lzohfgkpmadubortmo-9eccodoppukniekar0g0bqwjanlkymhq=s0.jpg\n",
      "Completed Image ====> 82. red-abstract-wallpaper-background-ultra-hd-modern-1780374.png\n",
      "Completed Image ====> 83. vintage-red-rose.png\n",
      "Completed Image ====> 84. 15105-illustration-of-a-red-power-button-icon-pv.png\n",
      "Completed Image ====> 85. heart-2356170_960_720.png\n",
      "Completed Image ====> 86. phone_png\n",
      "Completed Image ====> 87. 13527699619616.png\n",
      "Completed Image ====> 88. 1024px-red_information_icon_with_gradient_background.svg.png\n",
      "Completed Image ====> 89. red_discount_stickers_vector_free_by_123freevectors-d7hkhc5.png\n",
      "Completed Image ====> 90. maple_leaf_from_roundel_br_red.png\n",
      "Completed Image ====> 91. overlay?src0=https%3a%2f%2fi.vimeocdn.com%2fvideo%2f535345432_1280x720.jpg&src1=https%3a%2f%2ff.vimeocdn.com%2fimages_v6%2fshare%2fplay_icon_overlay.png.jpg\n",
      "Completed Image ====> 92. 09nop-8fbucvsenijrr0vv2kebc4gha7jra3vgigljvnjzrfcwrdk54a__nxiku2hpvskn6rchrq3xieait4yotkgcs=s0.jpg\n",
      "Completed Image ====> 93. price-list-red-element-label-sticker-1995045.png\n",
      "Completed Image ====> 94. tcg-red-2-paris-back-2.png\n",
      "Completed Image ====> 95. red-spaceship-vector-clipart.png\n",
      "Completed Image ====> 96. 16602-illustration-of-a-red-star-pv.png\n",
      "Completed Image ====> 97. water-305030_960_720.png\n",
      "Completed Image ====> 98. 13951692017794.png\n",
      "Completed Image ====> 99. football_png\n",
      "Completed Image ====> 100. 080605-f-6911g-121.jpg\n",
      "\n",
      "Errors: 0\n",
      "\n"
     ]
    }
   ],
   "source": [
    "# positive examples\n",
    "\n",
    "word = 'red'\n",
    "absolute_image_paths = response.download(build_arguments(word))"
   ]
  },
  {
   "cell_type": "code",
   "execution_count": 4,
   "metadata": {
    "collapsed": false
   },
   "outputs": [
    {
     "name": "stdout",
     "output_type": "stream",
     "text": [
      "\n",
      "Item no.: 1 --> Item name = random\n",
      "Evaluating...\n",
      "Starting Download...\n",
      "Completed Image ====> 1. 1020px-34-gon-dissection-random.svg.png\n",
      "Completed Image ====> 2. 1019px-30-gon-dissection-random.svg.png\n",
      "Completed Image ====> 3. 2000px-28-gon-dissection-random.svg.png\n",
      "Completed Image ====> 4. shapes-geometric-shades-collection-blue-random-1431991.png\n",
      "Completed Image ====> 5. binary-1254484_960_720.png\n",
      "Completed Image ====> 6. chart_random_pies02.png\n",
      "Completed Image ====> 7. 1024px-20-gon-dissection-random.svg.png\n",
      "Completed Image ====> 8. vqjxcfn6itf_clihq5bqtfd_p7du7cx0lzredzsbbok3wgnih3qgbo0n3knn2sxvay4io_fsho8ur65qkqslkhbggv8=s0.jpg\n",
      "Completed Image ====> 9. 148ggoblin_by_jevi93-dcco06q.png\n",
      "Completed Image ====> 10. 0-binary-ones-random-digital-1-numbers-zeroes-1254482.png\n",
      "Completed Image ====> 11. jh9ki3c6qxnnjd1irulvz1afgxuwpysmchjmm8vpxhzjy6japlqt_a7slqdm2ntphe3w9-ekiny3cso_38xrnby2oma=s0.jpg\n",
      "Completed Image ====> 12. tree-3515189_960_720.png\n",
      "Completed Image ====> 13. 180stitch_by_jevi93-dcogmwd.png\n",
      "Completed Image ====> 14. chart_random_dates02.png\n",
      "Completed Image ====> 15. overlay?src0=https%3a%2f%2fi.vimeocdn.com%2fvideo%2f693140261_1280x720.jpg&src1=https%3a%2f%2ff.vimeocdn.com%2fimages_v6%2fshare%2fplay_icon_overlay.png.jpg\n",
      "Completed Image ====> 16. city.png\n",
      "Completed Image ====> 17. 1017px-26-gon-dissection-random.svg.png\n",
      "Completed Image ====> 18. random-fill.png\n",
      "Completed Image ====> 19. dices-random-numbers-game-cubes-luck-gambling-160005.png\n",
      "Completed Image ====> 20. dice-293996_960_720.png\n",
      "Completed Image ====> 21. 192waluigi_by_jevi93-dcqqm62.png\n",
      "Completed Image ====> 22. random_go_position.png\n",
      "Completed Image ====> 23. overlay?src0=https%3a%2f%2fi.vimeocdn.com%2fvideo%2f236488244_1280x960.jpg&src1=https%3a%2f%2ff.vimeocdn.com%2fimages_v6%2fshare%2fplay_icon_overlay.png.jpg\n",
      "Completed Image ====> 24. brjxr3j8nukjusvpblf3p7pijhv_93tytdgbcmcoehdznit7jsb-hwarafhwbp_mlqb6av4wg4qamoigjealp7ujkmo=s0.jpg\n",
      "Completed Image ====> 25. christmas-tree-2.png\n",
      "Completed Image ====> 26. notepadpprandomizesortlinesrandom3.png\n",
      "Completed Image ====> 27. black-and-white-random-rectangle-pattern-2403426.png\n",
      "Completed Image ====> 28. 13936014612991.png\n",
      "Completed Image ====> 29. binary-1254485_960_720.png\n",
      "Completed Image ====> 30. asdasdas_by_jevi93-dcp08hn.png\n",
      "Completed Image ====> 31. random_number_text.png\n",
      "Completed Image ====> 32. example_of_random_tiling_aztek_diamonds.png\n",
      "Completed Image ====> 33. k6uxddlvu0txd_8tflhwxcukexv78b_jj7jrdwtp4cgctzdxvz55wqixi2xyfxfocxrths5xvqxhu9tfrhjnef_iuq=s0.jpg\n",
      "Completed Image ====> 34. random_sequential_adsorption_of_line_segments.png\n",
      "Completed Image ====> 35. 13534718417839.png\n",
      "Completed Image ====> 36. membrane-surface.png\n",
      "Completed Image ====> 37. ones-digital-0-numbers-random-binary-1-zeroes-1254499.png\n",
      "Completed Image ====> 38. random-1438435_960_720.png\n",
      "Completed Image ====> 39. random_friends_drawing4_by_artlover4life-d1kqse3.png\n",
      "Completed Image ====> 40. random_number_frame.png\n",
      "Completed Image ====> 41. overlay?src0=https%3a%2f%2fi.vimeocdn.com%2fvideo%2f445595798_1280x720.jpg&src1=https%3a%2f%2ff.vimeocdn.com%2fimages_v6%2fshare%2fplay_icon_overlay.png.jpg\n",
      "Completed Image ====> 42. xp.png.php\n",
      "Completed Image ====> 43. sgwd3faoxzz0rtddcyp3pyyzjkob0eifn7sziekxidh_1hdsdizrqljdlgxsj0sipymkb6pp3qswml7lko9o0xf-k0g=s0.jpg\n",
      "Completed Image ====> 44. markov_random_field_example.png\n",
      "Completed Image ====> 45. 479px-chord_1000_random.png\n",
      "Completed Image ====> 46. xp.png.php\n",
      "Completed Image ====> 47. 091106-f-8517a-105.jpg\n",
      "Completed Image ====> 48. colour-1296609_960_720.png\n",
      "Completed Image ====> 49. 184morrigan_by_jevi93-dcpla0a.png\n",
      "Completed Image ====> 50. 13936243215871.png\n",
      "Completed Image ====> 51. random_number_corners.png\n",
      "Completed Image ====> 52. pixelspaceships_wp_color_1600x1200.png\n",
      "Completed Image ====> 53. christmas-tree-3.png\n",
      "Completed Image ====> 54. overlay?src0=https%3a%2f%2fi.vimeocdn.com%2fvideo%2f173190774_1280x720.jpg&src1=https%3a%2f%2ff.vimeocdn.com%2fimages_v6%2fshare%2fplay_icon_overlay.png.jpg\n",
      "Completed Image ====> 55. artmg1onqec-8j8ztl0dxdtxd0u_csdibrojkr4uutqduvno2cl-ece-bd9sbhspsqatc9rxcttlmun0al0xo_esax8=s0.jpg\n",
      "Completed Image ====> 56. random_walk_2000000.png\n",
      "Completed Image ====> 57. binary-1254501_960_720.png\n",
      "Completed Image ====> 58. 091106-f-8517a-104.jpg\n",
      "Completed Image ====> 59. 150mewtwo_by_jevi93-dcd295k.png\n",
      "Completed Image ====> 60. king-crown-jewel-random-badge-ideas-queen-ornate-1296751.png\n",
      "Completed Image ====> 61. tree-pic.png\n",
      "Completed Image ====> 62. 1024px-16-gon-dissection-random.svg.png\n",
      "Completed Image ====> 63. 3mr2_h75sdyefhzrbtgoxzde_yejpwswkd1cdvoht58bu6hpln7crnthm6pp-liouasjanvvwwlwghsgqowfux_lbsm=s0.jpg\n",
      "Completed Image ====> 64. overlay?src0=https%3a%2f%2fi.vimeocdn.com%2fvideo%2f442727072_1280x960.jpg&src1=https%3a%2f%2ff.vimeocdn.com%2fimages_v6%2fshare%2fplay_icon_overlay.png.jpg\n",
      "Completed Image ====> 65. mars-mariner-4-pixels-image-first-tv-image-thmfeat.png\n",
      "Completed Image ====> 66. dwarf_png\n",
      "Completed Image ====> 67. 1280px-random-fraction.svg.png\n",
      "Completed Image ====> 68. pong.png\n",
      "Completed Image ====> 69. 091106-f-8517a-106.jpg\n",
      "Completed Image ====> 70. 168carnage_by_jevi93-dcmty3x.png\n",
      "Completed Image ====> 71. rubik_cube_png\n",
      "Completed Image ====> 72. 14328-illustration-of-a-telephone-pv.png\n",
      "Completed Image ====> 73. 998px-14-gon-dissection-random.svg.png\n",
      "Completed Image ====> 74. random-1438438_960_720.png\n",
      "Completed Image ====> 75. random_image.png.php\n",
      "Completed Image ====> 76. 80863037_624.png\n",
      "Completed Image ====> 77. violet-light.png\n",
      "Completed Image ====> 78. overlay?src0=https%3a%2f%2fi.vimeocdn.com%2fvideo%2f506362292_1280x720.jpg&src1=https%3a%2f%2ff.vimeocdn.com%2fimages_v6%2fshare%2fplay_icon_overlay.png.jpg\n",
      "Completed Image ====> 79. onxh0eq0vy_1ltkydwjzl4igtwr1cinmvl2vumulnicjmncfp_ebxyqu6q4wbekmokugc_k3bzvfycs7hxsr3absmbvs=s0.jpg\n",
      "Completed Image ====> 80. random_thoughts_of_kindness_barnstar.png\n",
      "Completed Image ====> 81. 170mask_by_jevi93-dcn6192.png\n",
      "Completed Image ====> 82. sunset.png\n",
      "Completed Image ====> 83. mission.png\n",
      "Completed Image ====> 84. 070426-f-0578m-134.jpg\n",
      "Completed Image ====> 85. pattern-1746497_960_720.png\n",
      "Completed Image ====> 86. regression-line.png\n",
      "Completed Image ====> 87. 1024px-random.org_logo.svg.png\n",
      "Completed Image ====> 88. 080716-r-fr000-005.jpg\n",
      "Completed Image ====> 89. r2emjze23v2viji3vqk5wx9vp2fu1iyhlqouca4v0svwmate91wb-pxguhkqg0ma3kioc_sczeoa7xowk6tsbgs2pq=s0.jpg\n",
      "Completed Image ====> 90. overlay?src0=https%3a%2f%2fi.vimeocdn.com%2fvideo%2f529935760_1280x720.jpg&src1=https%3a%2f%2ff.vimeocdn.com%2fimages_v6%2fshare%2fplay_icon_overlay.png.jpg\n",
      "Completed Image ====> 91. 15608-illustrated-silhouette-of-a-beautiful-woman-pv.png\n",
      "Completed Image ====> 92. 080716-r-fr000-004.jpg\n",
      "Completed Image ====> 93. xp.png.php\n",
      "Completed Image ====> 94. idk_random_fucking_characters_by_melodicscavenger-danzm5g.png\n",
      "Completed Image ====> 95. binary-1254481_960_720.png\n",
      "Completed Image ====> 96. bible_png\n",
      "Completed Image ====> 97. regression-residuals.png\n",
      "Completed Image ====> 98. 53941490_624.png\n",
      "Completed Image ====> 99. random_3.1.png\n",
      "Completed Image ====> 100. antarctica_velocity_highres_lbls.png\n",
      "\n",
      "Errors: 0\n",
      "\n"
     ]
    }
   ],
   "source": [
    "# negative examples\n",
    "\n",
    "word = 'random'\n",
    "absolute_image_paths = response.download(build_arguments(word))"
   ]
  },
  {
   "cell_type": "markdown",
   "metadata": {},
   "source": [
    "## 1.) Run the following cell\n",
    "\n",
    "* This imports needed Keras libraries\n",
    "* Then, it gets the trained VGG19 imagenet model\n",
    "* Then, it prints out the names of all the layers in that model"
   ]
  },
  {
   "cell_type": "code",
   "execution_count": 17,
   "metadata": {
    "collapsed": false
   },
   "outputs": [
    {
     "name": "stdout",
     "output_type": "stream",
     "text": [
      "input_2\n",
      "block1_conv1\n",
      "block1_conv2\n",
      "block1_pool\n",
      "block2_conv1\n",
      "block2_conv2\n",
      "block2_pool\n",
      "block3_conv1\n",
      "block3_conv2\n",
      "block3_conv3\n",
      "block3_conv4\n",
      "block3_pool\n",
      "block4_conv1\n",
      "block4_conv2\n",
      "block4_conv3\n",
      "block4_conv4\n",
      "block4_pool\n",
      "block5_conv1\n",
      "block5_conv2\n",
      "block5_conv3\n",
      "block5_conv4\n",
      "block5_pool\n",
      "flatten\n",
      "fc1\n",
      "fc2\n",
      "predictions\n"
     ]
    }
   ],
   "source": [
    "import numpy as np\n",
    "from keras.applications.vgg19 import VGG19\n",
    "from keras.preprocessing import image\n",
    "from keras.applications.vgg19 import preprocess_input\n",
    "from keras.models import Model\n",
    "\n",
    "base_model = VGG19(weights='imagenet')\n",
    "\n",
    "for layer in base_model.layers:\n",
    "    print(layer.name)"
   ]
  },
  {
   "cell_type": "markdown",
   "metadata": {},
   "source": [
    "### 2.) Determine your output layer\n",
    "\n",
    "- try `predictions` first"
   ]
  },
  {
   "cell_type": "code",
   "execution_count": 18,
   "metadata": {
    "collapsed": false
   },
   "outputs": [
    {
     "name": "stderr",
     "output_type": "stream",
     "text": [
      "C:\\Users\\arjun\\Anaconda3\\lib\\site-packages\\ipykernel_launcher.py:4: UserWarning: Update your `Model` call to the Keras 2 API: `Model(inputs=Tensor(\"in..., outputs=Tensor(\"fl...)`\n",
      "  after removing the cwd from sys.path.\n"
     ]
    }
   ],
   "source": [
    "layer = 'flatten'\n",
    "#layer = 'predictions'\n",
    "\n",
    "model = Model(input=base_model.input, output=base_model.get_layer(layer).output)"
   ]
  },
  {
   "cell_type": "markdown",
   "metadata": {},
   "source": [
    "### Run the following cell"
   ]
  },
  {
   "cell_type": "code",
   "execution_count": 19,
   "metadata": {
    "collapsed": true
   },
   "outputs": [],
   "source": [
    "def get_image(img_path, xs=224,ys=224):\n",
    "    x = image.load_img(img_path, target_size=(xs, ys))\n",
    "    x = image.img_to_array(x)\n",
    "    x = np.expand_dims(x, axis=0)\n",
    "    return x\n",
    "\n",
    "def get_img_features(model, img):\n",
    "    img = preprocess_input(img)\n",
    "    yhat = model.predict(img)\n",
    "    return yhat\n",
    "\n",
    "def get_image_features(word):\n",
    "    files = [f for f in listdir(osp.join(img_folder, word))] # grab all of the images in the folder\n",
    "    image_vectors = []\n",
    "    for f in tqdm(files):\n",
    "        img = get_image(osp.join(img_folder, word, f)) \n",
    "        x_feats = get_img_features(model, img).flatten() # get features for each image\n",
    "        image_vectors.append(x_feats) \n",
    "    return np.array(image_vectors)"
   ]
  },
  {
   "cell_type": "markdown",
   "metadata": {},
   "source": [
    "## 3.) Evaluate a classifier for your `word`\n",
    "\n",
    "* Using the positive and negative output from `base_model`, train a classifier (it can be a linear classifier from scikit-learn, if you'd like, but I would recommend the Keras Dense network we built for the previous assignment). \n",
    "* You'll need to split your data into Train and Test (I would recommend using half of the data for training, half for testing; you may opt for downloading more positive and negative examples)"
   ]
  },
  {
   "cell_type": "code",
   "execution_count": 20,
   "metadata": {
    "collapsed": false
   },
   "outputs": [
    {
     "data": {
      "application/vnd.jupyter.widget-view+json": {
       "model_id": "0146cb2d5b6b49e0aa9434e245ab6ee8",
       "version_major": 2,
       "version_minor": 0
      },
      "text/plain": [
       "HBox(children=(IntProgress(value=0, max=339), HTML(value='')))"
      ]
     },
     "metadata": {},
     "output_type": "display_data"
    },
    {
     "name": "stderr",
     "output_type": "stream",
     "text": [
      "C:\\Users\\arjun\\Anaconda3\\lib\\site-packages\\PIL\\Image.py:952: UserWarning: Palette images with Transparency   expressed in bytes should be converted to RGBA images\n",
      "  ' expressed in bytes should be converted ' +\n"
     ]
    },
    {
     "name": "stdout",
     "output_type": "stream",
     "text": [
      "\n"
     ]
    },
    {
     "data": {
      "application/vnd.jupyter.widget-view+json": {
       "model_id": "3f35a2dfba344a68b09f526c67ce9eb3",
       "version_major": 2,
       "version_minor": 0
      },
      "text/plain": [
       "HBox(children=(IntProgress(value=0, max=193), HTML(value='')))"
      ]
     },
     "metadata": {},
     "output_type": "display_data"
    },
    {
     "name": "stdout",
     "output_type": "stream",
     "text": [
      "\n"
     ]
    }
   ],
   "source": [
    "pos_images = get_image_features('red') # get positive image vectors\n",
    "neg_images = get_image_features('random') # get negative image vectors"
   ]
  },
  {
   "cell_type": "markdown",
   "metadata": {},
   "source": [
    "### Prepare the data. Split to train/test sets"
   ]
  },
  {
   "cell_type": "code",
   "execution_count": 13,
   "metadata": {
    "collapsed": false
   },
   "outputs": [
    {
     "data": {
      "text/plain": [
       "(100, 100)"
      ]
     },
     "execution_count": 13,
     "metadata": {},
     "output_type": "execute_result"
    }
   ],
   "source": [
    "pos_images = pos_images[:100]\n",
    "neg_images = neg_images[:100]\n",
    "\n",
    "len(pos_images), len(neg_images)"
   ]
  },
  {
   "cell_type": "code",
   "execution_count": 14,
   "metadata": {
    "collapsed": false
   },
   "outputs": [
    {
     "data": {
      "text/plain": [
       "((160, 25088), (160,), (40, 25088), (40,))"
      ]
     },
     "execution_count": 14,
     "metadata": {},
     "output_type": "execute_result"
    }
   ],
   "source": [
    "# split to train/test\n",
    "num_test = 20\n",
    "X_train = np.concatenate((pos_images[num_test:], neg_images[num_test:]),axis=0)\n",
    "X_test = np.concatenate((pos_images[:num_test],  neg_images[:num_test]))\n",
    "\n",
    "# labels? 1 = pos_images, 0 = neg_images\n",
    "y_train = np.array([1] * (100 - num_test) + [0] * (100 - num_test))\n",
    "y_test = np.array([1] * (num_test) + [0] * (num_test))\n",
    "\n",
    "X_train.shape, y_train.shape, X_test.shape, y_test.shape"
   ]
  },
  {
   "cell_type": "markdown",
   "metadata": {},
   "source": [
    "### Define model, train"
   ]
  },
  {
   "cell_type": "code",
   "execution_count": 15,
   "metadata": {
    "collapsed": false
   },
   "outputs": [
    {
     "name": "stderr",
     "output_type": "stream",
     "text": [
      "C:\\Users\\arjun\\Anaconda3\\lib\\site-packages\\sklearn\\linear_model\\logistic.py:433: FutureWarning: Default solver will be changed to 'lbfgs' in 0.22. Specify a solver to silence this warning.\n",
      "  FutureWarning)\n"
     ]
    },
    {
     "data": {
      "text/plain": [
       "LogisticRegression(C=1.0, class_weight=None, dual=False, fit_intercept=True,\n",
       "          intercept_scaling=1, max_iter=100, multi_class='warn',\n",
       "          n_jobs=None, penalty='l2', random_state=None, solver='warn',\n",
       "          tol=0.0001, verbose=0, warm_start=False)"
      ]
     },
     "execution_count": 15,
     "metadata": {},
     "output_type": "execute_result"
    }
   ],
   "source": [
    "from sklearn.linear_model import LogisticRegression\n",
    "\n",
    "clfr = LogisticRegression()\n",
    "\n",
    "clfr.fit(X_train, y_train)"
   ]
  },
  {
   "cell_type": "markdown",
   "metadata": {},
   "source": [
    "### Evaluate"
   ]
  },
  {
   "cell_type": "code",
   "execution_count": 16,
   "metadata": {
    "collapsed": false
   },
   "outputs": [
    {
     "data": {
      "text/plain": [
       "0.9"
      ]
     },
     "execution_count": 16,
     "metadata": {},
     "output_type": "execute_result"
    }
   ],
   "source": [
    "from sklearn.metrics import accuracy_score\n",
    "accuracy_score(clfr.predict(X_test), y_test)"
   ]
  },
  {
   "cell_type": "markdown",
   "metadata": {},
   "source": [
    "## 4.) Try a Different `base_model` \n",
    "\n",
    "* Repeat steps 3 and 4 above, only this time use a [pre-trained model other than VGG19](https://keras.io/applications/)\n",
    "* (Answer in a markdown cell): Which model+layer works the best for this data? Why do you think that is?"
   ]
  },
  {
   "cell_type": "code",
   "execution_count": 22,
   "metadata": {
    "collapsed": false
   },
   "outputs": [
    {
     "name": "stdout",
     "output_type": "stream",
     "text": [
      "input_4\n",
      "block1_conv1\n",
      "block1_conv2\n",
      "block1_pool\n",
      "block2_conv1\n",
      "block2_conv2\n",
      "block2_pool\n",
      "block3_conv1\n",
      "block3_conv2\n",
      "block3_conv3\n",
      "block3_pool\n",
      "block4_conv1\n",
      "block4_conv2\n",
      "block4_conv3\n",
      "block4_pool\n",
      "block5_conv1\n",
      "block5_conv2\n",
      "block5_conv3\n",
      "block5_pool\n",
      "flatten\n",
      "fc1\n",
      "fc2\n",
      "predictions\n"
     ]
    },
    {
     "name": "stderr",
     "output_type": "stream",
     "text": [
      "C:\\Users\\arjun\\Anaconda3\\lib\\site-packages\\ipykernel_launcher.py:14: UserWarning: Update your `Model` call to the Keras 2 API: `Model(inputs=Tensor(\"in..., outputs=Tensor(\"pr...)`\n",
      "  \n"
     ]
    },
    {
     "data": {
      "application/vnd.jupyter.widget-view+json": {
       "model_id": "21649731ae9846b394366381544afcbc",
       "version_major": 2,
       "version_minor": 0
      },
      "text/plain": [
       "HBox(children=(IntProgress(value=0, max=339), HTML(value='')))"
      ]
     },
     "metadata": {},
     "output_type": "display_data"
    },
    {
     "name": "stderr",
     "output_type": "stream",
     "text": [
      "C:\\Users\\arjun\\Anaconda3\\lib\\site-packages\\PIL\\Image.py:952: UserWarning: Palette images with Transparency   expressed in bytes should be converted to RGBA images\n",
      "  ' expressed in bytes should be converted ' +\n"
     ]
    },
    {
     "name": "stdout",
     "output_type": "stream",
     "text": [
      "\n"
     ]
    },
    {
     "data": {
      "application/vnd.jupyter.widget-view+json": {
       "model_id": "6d37cc75c0d441059bd0de0ac68d0031",
       "version_major": 2,
       "version_minor": 0
      },
      "text/plain": [
       "HBox(children=(IntProgress(value=0, max=193), HTML(value='')))"
      ]
     },
     "metadata": {},
     "output_type": "display_data"
    },
    {
     "name": "stdout",
     "output_type": "stream",
     "text": [
      "\n"
     ]
    },
    {
     "name": "stderr",
     "output_type": "stream",
     "text": [
      "C:\\Users\\arjun\\Anaconda3\\lib\\site-packages\\sklearn\\linear_model\\logistic.py:433: FutureWarning: Default solver will be changed to 'lbfgs' in 0.22. Specify a solver to silence this warning.\n",
      "  FutureWarning)\n"
     ]
    },
    {
     "data": {
      "text/plain": [
       "0.55"
      ]
     },
     "execution_count": 22,
     "metadata": {},
     "output_type": "execute_result"
    }
   ],
   "source": [
    "import numpy as np\n",
    "from keras.applications.vgg16 import VGG16\n",
    "from keras.preprocessing import image\n",
    "from keras.applications.vgg16 import preprocess_input\n",
    "from keras.models import Model\n",
    "\n",
    "base_model = VGG16(weights='imagenet')\n",
    "\n",
    "for layer in base_model.layers:\n",
    "    print(layer.name)\n",
    "\n",
    "layer = 'predictions'\n",
    "\n",
    "model = Model(input=base_model.input, output=base_model.get_layer(layer).output)\n",
    "\n",
    "pos_images = get_image_features('red') # get positive image vectors\n",
    "neg_images = get_image_features('random') # get negative image vectors\n",
    "\n",
    "pos_images = pos_images[:100]\n",
    "neg_images = neg_images[:100]\n",
    "\n",
    "len(pos_images), len(neg_images)\n",
    "\n",
    "# split to train/test\n",
    "num_test = 20\n",
    "X_train = np.concatenate((pos_images[num_test:], neg_images[num_test:]),axis=0)\n",
    "X_test = np.concatenate((pos_images[:num_test],  neg_images[:num_test]))\n",
    "\n",
    "# labels? 1 = pos_images, 0 = neg_images\n",
    "y_train = np.array([1] * (100 - num_test) + [0] * (100 - num_test))\n",
    "y_test = np.array([1] * (num_test) + [0] * (num_test))\n",
    "\n",
    "X_train.shape, y_train.shape, X_test.shape, y_test.shape\n",
    "\n",
    "from sklearn.linear_model import LogisticRegression\n",
    "\n",
    "clfr = LogisticRegression()\n",
    "\n",
    "clfr.fit(X_train, y_train)\n",
    "\n",
    "accuracy_score(clfr.predict(X_test), y_test)"
   ]
  },
  {
   "cell_type": "raw",
   "metadata": {},
   "source": [
    "Flatten may work better because it has more features. Some information loss occurs through feature reduction, and that information may be what is needed to properly distinguish between the classes. "
   ]
  },
  {
   "cell_type": "code",
   "execution_count": 2,
   "metadata": {
    "collapsed": false
   },
   "outputs": [
    {
     "name": "stdout",
     "output_type": "stream",
     "text": [
      "=====================================================================\n",
      "Assignment: A7 Transfer Learning\n",
      "OK, version v1.14.11\n",
      "=====================================================================\n",
      "\n",
      "\n",
      "Open the following URL:\n",
      "\n",
      "https://okpy.org/client/login/\n",
      "\n",
      "After logging in, copy the code from the web page and paste it into the box.\n",
      "Then press the \"Enter\" key on your keyboard.\n",
      "\n",
      "Paste your code here: HtuMaZZ0wysL6ET5rnqq3XADy1dxh5\n",
      "Successfully logged in as arjunshukla@u.boisestate.edu\n"
     ]
    }
   ],
   "source": [
    "from client.api.notebook import Notebook\n",
    "ok = Notebook('a7.ok')\n",
    "import os\n",
    "if not os.path.exists(os.path.join(os.environ.get(\"HOME\"), \".config/ok/auth_refresh\")):\n",
    "    ok.auth(force=True)\n",
    "else:\n",
    "    ok.auth(inline=True)"
   ]
  },
  {
   "cell_type": "code",
   "execution_count": null,
   "metadata": {
    "collapsed": false
   },
   "outputs": [
    {
     "data": {
      "application/javascript": [
       "IPython.notebook.save_checkpoint();"
      ],
      "text/plain": [
       "<IPython.core.display.Javascript object>"
      ]
     },
     "metadata": {},
     "output_type": "display_data"
    },
    {
     "data": {
      "application/javascript": [
       "IPython.notebook.save_notebook();"
      ],
      "text/plain": [
       "<IPython.core.display.Javascript object>"
      ]
     },
     "metadata": {},
     "output_type": "display_data"
    }
   ],
   "source": [
    "ok.submit()"
   ]
  }
 ],
 "metadata": {
  "kernelspec": {
   "display_name": "Python 3",
   "language": "python",
   "name": "python3"
  },
  "language_info": {
   "codemirror_mode": {
    "name": "ipython",
    "version": 3
   },
   "file_extension": ".py",
   "mimetype": "text/x-python",
   "name": "python",
   "nbconvert_exporter": "python",
   "pygments_lexer": "ipython3",
   "version": "3.6.0"
  }
 },
 "nbformat": 4,
 "nbformat_minor": 2
}
