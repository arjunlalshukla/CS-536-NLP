{
 "cells": [
  {
   "cell_type": "markdown",
   "metadata": {},
   "source": [
    "# Data Management\n",
    "\n",
    "### Topics\n",
    "\n",
    "* splitting into train, dev, and test data\n",
    "* cross-validation\n",
    "* evaluations\n",
    "* scikit-learn? NumPy? Scipy? \n",
    "* **Pandas dataframes**\n",
    "    * The API: http://pandas.pydata.org/pandas-docs/stable/index.html\n",
    "    * A nice tutorial: https://www.datacamp.com/community/tutorials/pandas-tutorial-dataframe-python#gs.GxzCRGk\n",
    "    * reading data\n",
    "    * adding columns based on other columns\n",
    "    * shifting data\n",
    "    * fillna\n",
    "    * pickles"
   ]
  },
  {
   "cell_type": "markdown",
   "metadata": {},
   "source": [
    "### Introduction\n",
    "\n",
    "The word **data** is actually plural (e.g., \"there were lots of data\"), the singular form is **datum**, but I will forgive you if you use data as a singular (which seems like a shortened way of saying \"data set\"). \n",
    "\n",
    "Not all data is neatly packaged in NLTK. In fact, a lot of the data you will be using might be formatted in some known way (if you're lucky):\n",
    "\n",
    "* XML\n",
    "* JSON\n",
    "* flat text files\n",
    "* databasese (e.g., sqlite, Hypersonic)\n",
    "* database dumps (e.g., MySQL)\n",
    "\n",
    "A lot of data out there doesn't have any kind of structure (that's another reason why we need NLP: to add structure where structure doesn't exist). Example: patient records inputted by doctors often contain structured information, but they are generally free to add notes which are unstructured, but full of useful information. \n",
    "\n",
    "Some other places where you can get (linguistic) data:\n",
    "\n",
    "* LDC Consortium: https://www.ldc.upenn.edu/\n",
    "* European Language Data: http://www.elda.org/en/\n",
    "* Maluuba NLU Frames dataset: https://datasets.maluuba.com/\n",
    "* Pentoref situated communication data (ask me)\n",
    "* Europarl parallel corpora for machine translation: http://www.statmt.org/europarl/\n",
    "* Image Captioning Data: https://github.com/dsg-bielefeld/image_wac/blob/master/Data/README.md\n",
    "* ... (see Data / Corpora Trello card: https://trello.com/c/eOvqGy5F)\n",
    "\n",
    "There are a gazillion other places to get the data you *might* need. \n",
    "\n",
    "Question:\n",
    "\n",
    "* What if I need some data and there isn't any data out there to meet my needs?\n",
    "\n",
    "Answer:\n",
    "\n",
    "* Welcome to one of science's biggest problems. Collecting data is part of the process of becoming a good NLP engineer or scientist. \n",
    "\n",
    "\n",
    "But for now, let's look at some data that already exist. "
   ]
  },
  {
   "cell_type": "markdown",
   "metadata": {},
   "source": [
    "# 1. Predicting proper name types\n",
    "\n",
    "* we are going to load some data in formatted CSV files\n",
    "* we are going to try to predict the proper name given the words in the name using a Naive Bayes Classifier"
   ]
  },
  {
   "cell_type": "code",
   "execution_count": 2,
   "metadata": {},
   "outputs": [],
   "source": [
    "import pandas as pd\n",
    "\n",
    "data = pd.read_csv('pnp-train.txt',names=['type','name'], delimiter='\\t', encoding='ISO-8859-1')"
   ]
  },
  {
   "cell_type": "code",
   "execution_count": 3,
   "metadata": {},
   "outputs": [
    {
     "data": {
      "text/html": [
       "<div>\n",
       "<style scoped>\n",
       "    .dataframe tbody tr th:only-of-type {\n",
       "        vertical-align: middle;\n",
       "    }\n",
       "\n",
       "    .dataframe tbody tr th {\n",
       "        vertical-align: top;\n",
       "    }\n",
       "\n",
       "    .dataframe thead th {\n",
       "        text-align: right;\n",
       "    }\n",
       "</style>\n",
       "<table border=\"1\" class=\"dataframe\">\n",
       "  <thead>\n",
       "    <tr style=\"text-align: right;\">\n",
       "      <th></th>\n",
       "      <th>type</th>\n",
       "      <th>name</th>\n",
       "    </tr>\n",
       "  </thead>\n",
       "  <tbody>\n",
       "    <tr>\n",
       "      <th>0</th>\n",
       "      <td>drug</td>\n",
       "      <td>Dilotab</td>\n",
       "    </tr>\n",
       "    <tr>\n",
       "      <th>1</th>\n",
       "      <td>movie</td>\n",
       "      <td>Beastie Boys: Live in Glasgow</td>\n",
       "    </tr>\n",
       "    <tr>\n",
       "      <th>2</th>\n",
       "      <td>person</td>\n",
       "      <td>Michelle Ford-Eriksson</td>\n",
       "    </tr>\n",
       "    <tr>\n",
       "      <th>3</th>\n",
       "      <td>place</td>\n",
       "      <td>Ramsbury</td>\n",
       "    </tr>\n",
       "    <tr>\n",
       "      <th>4</th>\n",
       "      <td>place</td>\n",
       "      <td>Market Bosworth</td>\n",
       "    </tr>\n",
       "    <tr>\n",
       "      <th>5</th>\n",
       "      <td>drug</td>\n",
       "      <td>Cyanide Antidote Package</td>\n",
       "    </tr>\n",
       "    <tr>\n",
       "      <th>6</th>\n",
       "      <td>person</td>\n",
       "      <td>Bill Johnson</td>\n",
       "    </tr>\n",
       "    <tr>\n",
       "      <th>7</th>\n",
       "      <td>place</td>\n",
       "      <td>Ettalong</td>\n",
       "    </tr>\n",
       "    <tr>\n",
       "      <th>8</th>\n",
       "      <td>movie</td>\n",
       "      <td>The Suicide Club</td>\n",
       "    </tr>\n",
       "    <tr>\n",
       "      <th>9</th>\n",
       "      <td>place</td>\n",
       "      <td>Pézenas</td>\n",
       "    </tr>\n",
       "  </tbody>\n",
       "</table>\n",
       "</div>"
      ],
      "text/plain": [
       "     type                           name\n",
       "0    drug                        Dilotab\n",
       "1   movie  Beastie Boys: Live in Glasgow\n",
       "2  person         Michelle Ford-Eriksson\n",
       "3   place                       Ramsbury\n",
       "4   place                Market Bosworth\n",
       "5    drug       Cyanide Antidote Package\n",
       "6  person                   Bill Johnson\n",
       "7   place                       Ettalong\n",
       "8   movie               The Suicide Club\n",
       "9   place                        Pézenas"
      ]
     },
     "execution_count": 3,
     "metadata": {},
     "output_type": "execute_result"
    }
   ],
   "source": [
    "data[:10]"
   ]
  },
  {
   "cell_type": "code",
   "execution_count": 4,
   "metadata": {},
   "outputs": [
    {
     "data": {
      "text/html": [
       "<div>\n",
       "<style scoped>\n",
       "    .dataframe tbody tr th:only-of-type {\n",
       "        vertical-align: middle;\n",
       "    }\n",
       "\n",
       "    .dataframe tbody tr th {\n",
       "        vertical-align: top;\n",
       "    }\n",
       "\n",
       "    .dataframe thead th {\n",
       "        text-align: right;\n",
       "    }\n",
       "</style>\n",
       "<table border=\"1\" class=\"dataframe\">\n",
       "  <thead>\n",
       "    <tr style=\"text-align: right;\">\n",
       "      <th></th>\n",
       "      <th>type</th>\n",
       "      <th>name</th>\n",
       "    </tr>\n",
       "  </thead>\n",
       "  <tbody>\n",
       "    <tr>\n",
       "      <th>count</th>\n",
       "      <td>21001</td>\n",
       "      <td>21001</td>\n",
       "    </tr>\n",
       "    <tr>\n",
       "      <th>unique</th>\n",
       "      <td>5</td>\n",
       "      <td>20992</td>\n",
       "    </tr>\n",
       "    <tr>\n",
       "      <th>top</th>\n",
       "      <td>movie</td>\n",
       "      <td>Mexico</td>\n",
       "    </tr>\n",
       "    <tr>\n",
       "      <th>freq</th>\n",
       "      <td>6262</td>\n",
       "      <td>2</td>\n",
       "    </tr>\n",
       "  </tbody>\n",
       "</table>\n",
       "</div>"
      ],
      "text/plain": [
       "         type    name\n",
       "count   21001   21001\n",
       "unique      5   20992\n",
       "top     movie  Mexico\n",
       "freq     6262       2"
      ]
     },
     "execution_count": 4,
     "metadata": {},
     "output_type": "execute_result"
    }
   ],
   "source": [
    "data.describe()"
   ]
  },
  {
   "cell_type": "markdown",
   "metadata": {},
   "source": [
    "### Creating new columns based on other columns"
   ]
  },
  {
   "cell_type": "code",
   "execution_count": 5,
   "metadata": {},
   "outputs": [],
   "source": [
    "def strip_lower_split(x):\n",
    "    return x.strip().lower().split()\n",
    "\n",
    "data['split_names'] = data['name'].map(strip_lower_split)\n",
    "\n",
    "#this line below is the same as the function def and application above in this cell\n",
    "#data['split_names2'] = data['name'].map(lambda x: x.strip().lower().split())"
   ]
  },
  {
   "cell_type": "code",
   "execution_count": 6,
   "metadata": {},
   "outputs": [
    {
     "data": {
      "text/html": [
       "<div>\n",
       "<style scoped>\n",
       "    .dataframe tbody tr th:only-of-type {\n",
       "        vertical-align: middle;\n",
       "    }\n",
       "\n",
       "    .dataframe tbody tr th {\n",
       "        vertical-align: top;\n",
       "    }\n",
       "\n",
       "    .dataframe thead th {\n",
       "        text-align: right;\n",
       "    }\n",
       "</style>\n",
       "<table border=\"1\" class=\"dataframe\">\n",
       "  <thead>\n",
       "    <tr style=\"text-align: right;\">\n",
       "      <th></th>\n",
       "      <th>type</th>\n",
       "      <th>name</th>\n",
       "      <th>split_names</th>\n",
       "    </tr>\n",
       "  </thead>\n",
       "  <tbody>\n",
       "    <tr>\n",
       "      <th>0</th>\n",
       "      <td>drug</td>\n",
       "      <td>Dilotab</td>\n",
       "      <td>[dilotab]</td>\n",
       "    </tr>\n",
       "    <tr>\n",
       "      <th>1</th>\n",
       "      <td>movie</td>\n",
       "      <td>Beastie Boys: Live in Glasgow</td>\n",
       "      <td>[beastie, boys:, live, in, glasgow]</td>\n",
       "    </tr>\n",
       "    <tr>\n",
       "      <th>2</th>\n",
       "      <td>person</td>\n",
       "      <td>Michelle Ford-Eriksson</td>\n",
       "      <td>[michelle, ford-eriksson]</td>\n",
       "    </tr>\n",
       "    <tr>\n",
       "      <th>3</th>\n",
       "      <td>place</td>\n",
       "      <td>Ramsbury</td>\n",
       "      <td>[ramsbury]</td>\n",
       "    </tr>\n",
       "    <tr>\n",
       "      <th>4</th>\n",
       "      <td>place</td>\n",
       "      <td>Market Bosworth</td>\n",
       "      <td>[market, bosworth]</td>\n",
       "    </tr>\n",
       "    <tr>\n",
       "      <th>5</th>\n",
       "      <td>drug</td>\n",
       "      <td>Cyanide Antidote Package</td>\n",
       "      <td>[cyanide, antidote, package]</td>\n",
       "    </tr>\n",
       "    <tr>\n",
       "      <th>6</th>\n",
       "      <td>person</td>\n",
       "      <td>Bill Johnson</td>\n",
       "      <td>[bill, johnson]</td>\n",
       "    </tr>\n",
       "    <tr>\n",
       "      <th>7</th>\n",
       "      <td>place</td>\n",
       "      <td>Ettalong</td>\n",
       "      <td>[ettalong]</td>\n",
       "    </tr>\n",
       "    <tr>\n",
       "      <th>8</th>\n",
       "      <td>movie</td>\n",
       "      <td>The Suicide Club</td>\n",
       "      <td>[the, suicide, club]</td>\n",
       "    </tr>\n",
       "    <tr>\n",
       "      <th>9</th>\n",
       "      <td>place</td>\n",
       "      <td>Pézenas</td>\n",
       "      <td>[pézenas]</td>\n",
       "    </tr>\n",
       "  </tbody>\n",
       "</table>\n",
       "</div>"
      ],
      "text/plain": [
       "     type                           name                          split_names\n",
       "0    drug                        Dilotab                            [dilotab]\n",
       "1   movie  Beastie Boys: Live in Glasgow  [beastie, boys:, live, in, glasgow]\n",
       "2  person         Michelle Ford-Eriksson            [michelle, ford-eriksson]\n",
       "3   place                       Ramsbury                           [ramsbury]\n",
       "4   place                Market Bosworth                   [market, bosworth]\n",
       "5    drug       Cyanide Antidote Package         [cyanide, antidote, package]\n",
       "6  person                   Bill Johnson                      [bill, johnson]\n",
       "7   place                       Ettalong                           [ettalong]\n",
       "8   movie               The Suicide Club                 [the, suicide, club]\n",
       "9   place                        Pézenas                            [pézenas]"
      ]
     },
     "execution_count": 6,
     "metadata": {},
     "output_type": "execute_result"
    }
   ],
   "source": [
    "data[:10]"
   ]
  },
  {
   "cell_type": "code",
   "execution_count": 7,
   "metadata": {},
   "outputs": [
    {
     "data": {
      "text/plain": [
       "{'company', 'drug', 'movie', 'person', 'place'}"
      ]
     },
     "execution_count": 7,
     "metadata": {},
     "output_type": "execute_result"
    }
   ],
   "source": [
    "set(data.type)"
   ]
  },
  {
   "cell_type": "code",
   "execution_count": 15,
   "metadata": {},
   "outputs": [
    {
     "data": {
      "image/png": "[encoded data removed]",
      "text/plain": [
       "<Figure size 432x288 with 1 Axes>"
      ]
     },
     "metadata": {},
     "output_type": "display_data"
    }
   ],
   "source": [
    "%matplotlib inline\n",
    "\n",
    "import nltk\n",
    "\n",
    "'''\n",
    "words = []\n",
    "for row in data.split_names:\n",
    "    for word in row:\n",
    "        words.append(word)\n",
    "\n",
    "words = []\n",
    "for row in data.split_names:\n",
    "    words += row\n",
    "'''\n",
    "# this in-line double-nested super-duper for loop is the same was the for loop above        \n",
    "words = [i for x in data.split_names for i in x]\n",
    "\n",
    "nltk.FreqDist(words).plot(50)"
   ]
  },
  {
   "cell_type": "code",
   "execution_count": 16,
   "metadata": {},
   "outputs": [
    {
     "data": {
      "text/plain": [
       "0                              [dilotab]\n",
       "1    [beastie, boys:, live, in, glasgow]\n",
       "2              [michelle, ford-eriksson]\n",
       "3                             [ramsbury]\n",
       "4                     [market, bosworth]\n",
       "5           [cyanide, antidote, package]\n",
       "6                        [bill, johnson]\n",
       "7                             [ettalong]\n",
       "8                   [the, suicide, club]\n",
       "9                              [pézenas]\n",
       "Name: split_names, dtype: object"
      ]
     },
     "execution_count": 16,
     "metadata": {},
     "output_type": "execute_result"
    }
   ],
   "source": [
    "data.split_names[:10] # we can access existing columns directly"
   ]
  },
  {
   "cell_type": "code",
   "execution_count": 18,
   "metadata": {},
   "outputs": [],
   "source": [
    "data['new_col'] = range(1,len(data)+1) # a new column can be set to any kind of list"
   ]
  },
  {
   "cell_type": "code",
   "execution_count": 20,
   "metadata": {},
   "outputs": [
    {
     "data": {
      "text/html": [
       "<div>\n",
       "<style scoped>\n",
       "    .dataframe tbody tr th:only-of-type {\n",
       "        vertical-align: middle;\n",
       "    }\n",
       "\n",
       "    .dataframe tbody tr th {\n",
       "        vertical-align: top;\n",
       "    }\n",
       "\n",
       "    .dataframe thead th {\n",
       "        text-align: right;\n",
       "    }\n",
       "</style>\n",
       "<table border=\"1\" class=\"dataframe\">\n",
       "  <thead>\n",
       "    <tr style=\"text-align: right;\">\n",
       "      <th></th>\n",
       "      <th>type</th>\n",
       "      <th>name</th>\n",
       "      <th>split_names</th>\n",
       "      <th>new_col</th>\n",
       "    </tr>\n",
       "  </thead>\n",
       "  <tbody>\n",
       "    <tr>\n",
       "      <th>0</th>\n",
       "      <td>drug</td>\n",
       "      <td>Dilotab</td>\n",
       "      <td>[dilotab]</td>\n",
       "      <td>1</td>\n",
       "    </tr>\n",
       "    <tr>\n",
       "      <th>1</th>\n",
       "      <td>movie</td>\n",
       "      <td>Beastie Boys: Live in Glasgow</td>\n",
       "      <td>[beastie, boys:, live, in, glasgow]</td>\n",
       "      <td>2</td>\n",
       "    </tr>\n",
       "    <tr>\n",
       "      <th>2</th>\n",
       "      <td>person</td>\n",
       "      <td>Michelle Ford-Eriksson</td>\n",
       "      <td>[michelle, ford-eriksson]</td>\n",
       "      <td>3</td>\n",
       "    </tr>\n",
       "    <tr>\n",
       "      <th>3</th>\n",
       "      <td>place</td>\n",
       "      <td>Ramsbury</td>\n",
       "      <td>[ramsbury]</td>\n",
       "      <td>4</td>\n",
       "    </tr>\n",
       "    <tr>\n",
       "      <th>4</th>\n",
       "      <td>place</td>\n",
       "      <td>Market Bosworth</td>\n",
       "      <td>[market, bosworth]</td>\n",
       "      <td>5</td>\n",
       "    </tr>\n",
       "    <tr>\n",
       "      <th>5</th>\n",
       "      <td>drug</td>\n",
       "      <td>Cyanide Antidote Package</td>\n",
       "      <td>[cyanide, antidote, package]</td>\n",
       "      <td>6</td>\n",
       "    </tr>\n",
       "    <tr>\n",
       "      <th>6</th>\n",
       "      <td>person</td>\n",
       "      <td>Bill Johnson</td>\n",
       "      <td>[bill, johnson]</td>\n",
       "      <td>7</td>\n",
       "    </tr>\n",
       "    <tr>\n",
       "      <th>7</th>\n",
       "      <td>place</td>\n",
       "      <td>Ettalong</td>\n",
       "      <td>[ettalong]</td>\n",
       "      <td>8</td>\n",
       "    </tr>\n",
       "    <tr>\n",
       "      <th>8</th>\n",
       "      <td>movie</td>\n",
       "      <td>The Suicide Club</td>\n",
       "      <td>[the, suicide, club]</td>\n",
       "      <td>9</td>\n",
       "    </tr>\n",
       "    <tr>\n",
       "      <th>9</th>\n",
       "      <td>place</td>\n",
       "      <td>Pézenas</td>\n",
       "      <td>[pézenas]</td>\n",
       "      <td>10</td>\n",
       "    </tr>\n",
       "  </tbody>\n",
       "</table>\n",
       "</div>"
      ],
      "text/plain": [
       "     type                           name                          split_names  \\\n",
       "0    drug                        Dilotab                            [dilotab]   \n",
       "1   movie  Beastie Boys: Live in Glasgow  [beastie, boys:, live, in, glasgow]   \n",
       "2  person         Michelle Ford-Eriksson            [michelle, ford-eriksson]   \n",
       "3   place                       Ramsbury                           [ramsbury]   \n",
       "4   place                Market Bosworth                   [market, bosworth]   \n",
       "5    drug       Cyanide Antidote Package         [cyanide, antidote, package]   \n",
       "6  person                   Bill Johnson                      [bill, johnson]   \n",
       "7   place                       Ettalong                           [ettalong]   \n",
       "8   movie               The Suicide Club                 [the, suicide, club]   \n",
       "9   place                        Pézenas                            [pézenas]   \n",
       "\n",
       "   new_col  \n",
       "0        1  \n",
       "1        2  \n",
       "2        3  \n",
       "3        4  \n",
       "4        5  \n",
       "5        6  \n",
       "6        7  \n",
       "7        8  \n",
       "8        9  \n",
       "9       10  "
      ]
     },
     "execution_count": 20,
     "metadata": {},
     "output_type": "execute_result"
    }
   ],
   "source": [
    "data[:10]"
   ]
  },
  {
   "cell_type": "code",
   "execution_count": 21,
   "metadata": {},
   "outputs": [],
   "source": [
    "data.index = data.new_col"
   ]
  },
  {
   "cell_type": "code",
   "execution_count": 22,
   "metadata": {},
   "outputs": [
    {
     "data": {
      "text/html": [
       "<div>\n",
       "<style scoped>\n",
       "    .dataframe tbody tr th:only-of-type {\n",
       "        vertical-align: middle;\n",
       "    }\n",
       "\n",
       "    .dataframe tbody tr th {\n",
       "        vertical-align: top;\n",
       "    }\n",
       "\n",
       "    .dataframe thead th {\n",
       "        text-align: right;\n",
       "    }\n",
       "</style>\n",
       "<table border=\"1\" class=\"dataframe\">\n",
       "  <thead>\n",
       "    <tr style=\"text-align: right;\">\n",
       "      <th></th>\n",
       "      <th>type</th>\n",
       "      <th>name</th>\n",
       "      <th>split_names</th>\n",
       "      <th>new_col</th>\n",
       "    </tr>\n",
       "    <tr>\n",
       "      <th>new_col</th>\n",
       "      <th></th>\n",
       "      <th></th>\n",
       "      <th></th>\n",
       "      <th></th>\n",
       "    </tr>\n",
       "  </thead>\n",
       "  <tbody>\n",
       "    <tr>\n",
       "      <th>1</th>\n",
       "      <td>drug</td>\n",
       "      <td>Dilotab</td>\n",
       "      <td>[dilotab]</td>\n",
       "      <td>1</td>\n",
       "    </tr>\n",
       "    <tr>\n",
       "      <th>2</th>\n",
       "      <td>movie</td>\n",
       "      <td>Beastie Boys: Live in Glasgow</td>\n",
       "      <td>[beastie, boys:, live, in, glasgow]</td>\n",
       "      <td>2</td>\n",
       "    </tr>\n",
       "    <tr>\n",
       "      <th>3</th>\n",
       "      <td>person</td>\n",
       "      <td>Michelle Ford-Eriksson</td>\n",
       "      <td>[michelle, ford-eriksson]</td>\n",
       "      <td>3</td>\n",
       "    </tr>\n",
       "    <tr>\n",
       "      <th>4</th>\n",
       "      <td>place</td>\n",
       "      <td>Ramsbury</td>\n",
       "      <td>[ramsbury]</td>\n",
       "      <td>4</td>\n",
       "    </tr>\n",
       "    <tr>\n",
       "      <th>5</th>\n",
       "      <td>place</td>\n",
       "      <td>Market Bosworth</td>\n",
       "      <td>[market, bosworth]</td>\n",
       "      <td>5</td>\n",
       "    </tr>\n",
       "    <tr>\n",
       "      <th>6</th>\n",
       "      <td>drug</td>\n",
       "      <td>Cyanide Antidote Package</td>\n",
       "      <td>[cyanide, antidote, package]</td>\n",
       "      <td>6</td>\n",
       "    </tr>\n",
       "    <tr>\n",
       "      <th>7</th>\n",
       "      <td>person</td>\n",
       "      <td>Bill Johnson</td>\n",
       "      <td>[bill, johnson]</td>\n",
       "      <td>7</td>\n",
       "    </tr>\n",
       "    <tr>\n",
       "      <th>8</th>\n",
       "      <td>place</td>\n",
       "      <td>Ettalong</td>\n",
       "      <td>[ettalong]</td>\n",
       "      <td>8</td>\n",
       "    </tr>\n",
       "    <tr>\n",
       "      <th>9</th>\n",
       "      <td>movie</td>\n",
       "      <td>The Suicide Club</td>\n",
       "      <td>[the, suicide, club]</td>\n",
       "      <td>9</td>\n",
       "    </tr>\n",
       "    <tr>\n",
       "      <th>10</th>\n",
       "      <td>place</td>\n",
       "      <td>Pézenas</td>\n",
       "      <td>[pézenas]</td>\n",
       "      <td>10</td>\n",
       "    </tr>\n",
       "  </tbody>\n",
       "</table>\n",
       "</div>"
      ],
      "text/plain": [
       "           type                           name  \\\n",
       "new_col                                          \n",
       "1          drug                        Dilotab   \n",
       "2         movie  Beastie Boys: Live in Glasgow   \n",
       "3        person         Michelle Ford-Eriksson   \n",
       "4         place                       Ramsbury   \n",
       "5         place                Market Bosworth   \n",
       "6          drug       Cyanide Antidote Package   \n",
       "7        person                   Bill Johnson   \n",
       "8         place                       Ettalong   \n",
       "9         movie               The Suicide Club   \n",
       "10        place                        Pézenas   \n",
       "\n",
       "                                 split_names  new_col  \n",
       "new_col                                                \n",
       "1                                  [dilotab]        1  \n",
       "2        [beastie, boys:, live, in, glasgow]        2  \n",
       "3                  [michelle, ford-eriksson]        3  \n",
       "4                                 [ramsbury]        4  \n",
       "5                         [market, bosworth]        5  \n",
       "6               [cyanide, antidote, package]        6  \n",
       "7                            [bill, johnson]        7  \n",
       "8                                 [ettalong]        8  \n",
       "9                       [the, suicide, club]        9  \n",
       "10                                 [pézenas]       10  "
      ]
     },
     "execution_count": 22,
     "metadata": {},
     "output_type": "execute_result"
    }
   ],
   "source": [
    "data[:10]"
   ]
  },
  {
   "cell_type": "code",
   "execution_count": null,
   "metadata": {
    "collapsed": true
   },
   "outputs": [],
   "source": []
  },
  {
   "cell_type": "markdown",
   "metadata": {},
   "source": [
    "### Can we predict the type given the name?"
   ]
  },
  {
   "cell_type": "code",
   "execution_count": 34,
   "metadata": {},
   "outputs": [],
   "source": [
    "import nltk\n",
    "from nltk.classify.naivebayes import NaiveBayesClassifier\n",
    "import collections as c"
   ]
  },
  {
   "cell_type": "code",
   "execution_count": 24,
   "metadata": {},
   "outputs": [],
   "source": [
    "# train\n",
    "data['feats'] = data['split_names'].map(lambda x: c.Counter(x))\n",
    "train_data = list(zip(data['feats'], data['type']))\n",
    "classifier = NaiveBayesClassifier.train(train_data)"
   ]
  },
  {
   "cell_type": "code",
   "execution_count": 25,
   "metadata": {},
   "outputs": [
    {
     "data": {
      "text/plain": [
       "0.9761439931431837"
      ]
     },
     "execution_count": 25,
     "metadata": {},
     "output_type": "execute_result"
    }
   ],
   "source": [
    "# evaluate\n",
    "nltk.classify.util.accuracy(classifier, train_data)"
   ]
  },
  {
   "cell_type": "markdown",
   "metadata": {},
   "source": [
    "Wow! over 97% accuracy!!! We should start a company the offers automagic proper name type detection, Right?  RIGHTT?!?\n",
    "\n",
    "No. Because:\n",
    "\n",
    "## It is a cardinal sin in machine learning to eavaluate on your training data!!!!!!1\n",
    "\n",
    "Question:\n",
    "\n",
    "* Why is it so wrong?\n",
    "\n",
    "Answer:\n",
    "\n",
    "* Bias\n",
    "* Generalizability"
   ]
  },
  {
   "cell_type": "markdown",
   "metadata": {},
   "source": [
    "Fortunately for us, this particular corpus of data has a separate file that has a randomly chosen set for evaluation/testing. Let's use that instead. "
   ]
  },
  {
   "cell_type": "code",
   "execution_count": 26,
   "metadata": {},
   "outputs": [],
   "source": [
    "test = pd.read_csv('pnp-test.txt',names=['type','name'], delimiter='\\t', encoding='ISO-8859-1')\n",
    "test['split_names'] = test['name'].map(lambda x: x.strip().lower().split())"
   ]
  },
  {
   "cell_type": "code",
   "execution_count": 29,
   "metadata": {},
   "outputs": [
    {
     "data": {
      "text/plain": [
       "0.6693333333333333"
      ]
     },
     "execution_count": 29,
     "metadata": {},
     "output_type": "execute_result"
    }
   ],
   "source": [
    "#test\n",
    "test['feats'] = test['split_names'].map(lambda x: c.Counter(x))\n",
    "test_data = list(zip(test['feats'], test['type']))\n",
    "nltk.classify.util.accuracy(classifier, test_data)"
   ]
  },
  {
   "cell_type": "markdown",
   "metadata": {},
   "source": [
    "About 67% for this task, using this particular classifier seems a lot more reasonable. \n",
    "\n",
    "\n",
    "**Lesson:** if you are doing some ML/NLP and you are getting amazing results, check to make sure you aren't evaluating on your training data. "
   ]
  },
  {
   "cell_type": "markdown",
   "metadata": {},
   "source": [
    "# 2. Splitting Data: train/dev/test\n",
    "\n",
    "It's conventional to split the data into three parts:\n",
    "\n",
    "* training data (train)\n",
    "* development data (dev)\n",
    "* evaluation data (eval/test; aka 'held-out' set)\n",
    "\n",
    "How much data is split into each category depends on the corpus and the task. It's often conventional to use 80% of the data for train, 10% for dev and 10% for test. \n",
    "\n",
    "When developing your system, you use train to train your probability functions (i.e., models) and you can use your dev set to evaluate/test your system. You can do all kinds of analysis on your train and dev data. Once you feel your model is ready, you can evaluate on your test data. \n",
    "\n",
    "That leads us to another rule: don't use your test data until the final evaluation. That way you have an un-biased evaluation of your model. \n",
    "\n",
    "Note: Many people simply split the data into three parts and release it to the public that way. That allows others to test their own models against others' models to see which model performs the best, given the data and the task. One must keep in mind that any kind of manipulation of the test data (e.g., stemming or adding POS tags) would need to be done for the dev and test data as well. \n",
    "\n",
    "The next section shows an example of the train/eval split. "
   ]
  },
  {
   "cell_type": "markdown",
   "metadata": {},
   "source": [
    "# 3. Analyzing Sentiment\n",
    "\n",
    " * some data: http://help.sentiment140.com/for-students\n",
    "\n",
    "**Columns:**\n",
    "\n",
    "    0 - the polarity of the tweet (0 = negative, 2 = neutral, 4 = positive)\n",
    "    1 - the id of the tweet (2087)\n",
    "    2 - the date of the tweet (Sat May 16 23:58:44 UTC 2009)\n",
    "    3 - the query (lyx). If there is no query, then this value is NO_QUERY.\n",
    "    4 - the user that tweeted (robotickilldozr)\n",
    "    5 - the text of the tweet (Lyx is cool)"
   ]
  },
  {
   "cell_type": "code",
   "execution_count": 59,
   "metadata": {},
   "outputs": [
    {
     "name": "stdout",
     "output_type": "stream",
     "text": [
      "length of data 1600000\n",
      "length of test 498\n",
      "length of both 1600498\n"
     ]
    }
   ],
   "source": [
    "cols = ['polarity','id', 'date', 'query', 'user', 'tweet']\n",
    "\n",
    "data = pd.read_csv('sentiment.train.csv',names=cols, encoding='ISO-8859-1')\n",
    "print('length of data {}'.format(len(data)))\n",
    "test = pd.read_csv('sentiment.test.csv',names=cols, encoding='ISO-8859-1')\n",
    "print('length of test {}'.format(len(test)))\n",
    "data = pd.concat([data,test])\n",
    "print('length of both {}'.format(len(data)))"
   ]
  },
  {
   "cell_type": "markdown",
   "metadata": {},
   "source": [
    "This is a lot of data. That's great! However, it will take a long time to get through this notebook with all of that data, so I'm going to randomly choose about 10% of it. We also don't need all of those columns, so let's only keep the ones we need."
   ]
  },
  {
   "cell_type": "code",
   "execution_count": 60,
   "metadata": {},
   "outputs": [],
   "source": [
    "data=data.sample(frac=0.01,random_state=200)"
   ]
  },
  {
   "cell_type": "code",
   "execution_count": 61,
   "metadata": {},
   "outputs": [],
   "source": [
    "data = data.drop(['id', 'date', 'query', 'user'], axis=1)"
   ]
  },
  {
   "cell_type": "code",
   "execution_count": 62,
   "metadata": {},
   "outputs": [
    {
     "data": {
      "text/html": [
       "<div>\n",
       "<style scoped>\n",
       "    .dataframe tbody tr th:only-of-type {\n",
       "        vertical-align: middle;\n",
       "    }\n",
       "\n",
       "    .dataframe tbody tr th {\n",
       "        vertical-align: top;\n",
       "    }\n",
       "\n",
       "    .dataframe thead th {\n",
       "        text-align: right;\n",
       "    }\n",
       "</style>\n",
       "<table border=\"1\" class=\"dataframe\">\n",
       "  <thead>\n",
       "    <tr style=\"text-align: right;\">\n",
       "      <th></th>\n",
       "      <th>polarity</th>\n",
       "      <th>tweet</th>\n",
       "    </tr>\n",
       "  </thead>\n",
       "  <tbody>\n",
       "    <tr>\n",
       "      <th>888312</th>\n",
       "      <td>4</td>\n",
       "      <td>Breaky burrito at Whole Foods is a good way to...</td>\n",
       "    </tr>\n",
       "    <tr>\n",
       "      <th>516573</th>\n",
       "      <td>0</td>\n",
       "      <td>i'm out! gonna check my facebook. please!!!!!!...</td>\n",
       "    </tr>\n",
       "    <tr>\n",
       "      <th>970735</th>\n",
       "      <td>4</td>\n",
       "      <td>yay just won mac msf in petticoat on ebay and ...</td>\n",
       "    </tr>\n",
       "    <tr>\n",
       "      <th>862961</th>\n",
       "      <td>4</td>\n",
       "      <td>@shezDOPEx3 i love you more</td>\n",
       "    </tr>\n",
       "    <tr>\n",
       "      <th>122643</th>\n",
       "      <td>0</td>\n",
       "      <td>@mahdi Maybe the problem is from my ISP</td>\n",
       "    </tr>\n",
       "    <tr>\n",
       "      <th>335291</th>\n",
       "      <td>0</td>\n",
       "      <td>Our hotel is fucking awesome Time to drink vod...</td>\n",
       "    </tr>\n",
       "    <tr>\n",
       "      <th>752433</th>\n",
       "      <td>0</td>\n",
       "      <td>@Keagon45 i'm soooooo jealous that you're all ...</td>\n",
       "    </tr>\n",
       "    <tr>\n",
       "      <th>1109199</th>\n",
       "      <td>4</td>\n",
       "      <td>Drinking chai tea and checking my blog updates</td>\n",
       "    </tr>\n",
       "    <tr>\n",
       "      <th>978585</th>\n",
       "      <td>4</td>\n",
       "      <td>@tmlam_140776 less than that...less than 30m</td>\n",
       "    </tr>\n",
       "    <tr>\n",
       "      <th>1582994</th>\n",
       "      <td>4</td>\n",
       "      <td>@lesbianscoop *lol* what did you do? need to m...</td>\n",
       "    </tr>\n",
       "  </tbody>\n",
       "</table>\n",
       "</div>"
      ],
      "text/plain": [
       "         polarity                                              tweet\n",
       "888312          4  Breaky burrito at Whole Foods is a good way to...\n",
       "516573          0  i'm out! gonna check my facebook. please!!!!!!...\n",
       "970735          4  yay just won mac msf in petticoat on ebay and ...\n",
       "862961          4                       @shezDOPEx3 i love you more \n",
       "122643          0           @mahdi Maybe the problem is from my ISP \n",
       "335291          0  Our hotel is fucking awesome Time to drink vod...\n",
       "752433          0  @Keagon45 i'm soooooo jealous that you're all ...\n",
       "1109199         4    Drinking chai tea and checking my blog updates \n",
       "978585          4      @tmlam_140776 less than that...less than 30m \n",
       "1582994         4  @lesbianscoop *lol* what did you do? need to m..."
      ]
     },
     "execution_count": 62,
     "metadata": {},
     "output_type": "execute_result"
    }
   ],
   "source": [
    "data[:10]"
   ]
  },
  {
   "cell_type": "code",
   "execution_count": 63,
   "metadata": {},
   "outputs": [
    {
     "data": {
      "text/plain": [
       "count    16005.000000\n",
       "mean         1.998500\n",
       "std          1.999999\n",
       "min          0.000000\n",
       "25%          0.000000\n",
       "50%          0.000000\n",
       "75%          4.000000\n",
       "max          4.000000\n",
       "Name: polarity, dtype: float64"
      ]
     },
     "execution_count": 63,
     "metadata": {},
     "output_type": "execute_result"
    }
   ],
   "source": [
    "data.polarity.describe() # kind of useless"
   ]
  },
  {
   "cell_type": "code",
   "execution_count": 64,
   "metadata": {},
   "outputs": [
    {
     "data": {
      "text/plain": [
       "FreqDist({0: 8008, 4: 7996, 2: 1})"
      ]
     },
     "execution_count": 64,
     "metadata": {},
     "output_type": "execute_result"
    }
   ],
   "source": [
    "import nltk\n",
    "\n",
    "nltk.FreqDist(data.polarity) # the counts of 0 and 4 should be roughly equal. Why?"
   ]
  },
  {
   "cell_type": "markdown",
   "metadata": {},
   "source": [
    "### Let's remove the neutral tweets (2) "
   ]
  },
  {
   "cell_type": "code",
   "execution_count": 65,
   "metadata": {},
   "outputs": [],
   "source": [
    "data = data[data['polarity'] != 2] # filter an entire dataframe based on a criteria"
   ]
  },
  {
   "cell_type": "code",
   "execution_count": 66,
   "metadata": {},
   "outputs": [
    {
     "data": {
      "text/plain": [
       "FreqDist({0: 8008, 4: 7996})"
      ]
     },
     "execution_count": 66,
     "metadata": {},
     "output_type": "execute_result"
    }
   ],
   "source": [
    "nltk.FreqDist(data.polarity) "
   ]
  },
  {
   "cell_type": "markdown",
   "metadata": {},
   "source": [
    "Now, I want to represent 0 as 'neg' and 4 as 'pos'"
   ]
  },
  {
   "cell_type": "code",
   "execution_count": 67,
   "metadata": {},
   "outputs": [
    {
     "data": {
      "text/html": [
       "<div>\n",
       "<style scoped>\n",
       "    .dataframe tbody tr th:only-of-type {\n",
       "        vertical-align: middle;\n",
       "    }\n",
       "\n",
       "    .dataframe tbody tr th {\n",
       "        vertical-align: top;\n",
       "    }\n",
       "\n",
       "    .dataframe thead th {\n",
       "        text-align: right;\n",
       "    }\n",
       "</style>\n",
       "<table border=\"1\" class=\"dataframe\">\n",
       "  <thead>\n",
       "    <tr style=\"text-align: right;\">\n",
       "      <th></th>\n",
       "      <th>polarity</th>\n",
       "      <th>tweet</th>\n",
       "    </tr>\n",
       "  </thead>\n",
       "  <tbody>\n",
       "    <tr>\n",
       "      <th>888312</th>\n",
       "      <td>pos</td>\n",
       "      <td>Breaky burrito at Whole Foods is a good way to...</td>\n",
       "    </tr>\n",
       "    <tr>\n",
       "      <th>516573</th>\n",
       "      <td>neg</td>\n",
       "      <td>i'm out! gonna check my facebook. please!!!!!!...</td>\n",
       "    </tr>\n",
       "    <tr>\n",
       "      <th>970735</th>\n",
       "      <td>pos</td>\n",
       "      <td>yay just won mac msf in petticoat on ebay and ...</td>\n",
       "    </tr>\n",
       "    <tr>\n",
       "      <th>862961</th>\n",
       "      <td>pos</td>\n",
       "      <td>@shezDOPEx3 i love you more</td>\n",
       "    </tr>\n",
       "    <tr>\n",
       "      <th>122643</th>\n",
       "      <td>neg</td>\n",
       "      <td>@mahdi Maybe the problem is from my ISP</td>\n",
       "    </tr>\n",
       "  </tbody>\n",
       "</table>\n",
       "</div>"
      ],
      "text/plain": [
       "       polarity                                              tweet\n",
       "888312      pos  Breaky burrito at Whole Foods is a good way to...\n",
       "516573      neg  i'm out! gonna check my facebook. please!!!!!!...\n",
       "970735      pos  yay just won mac msf in petticoat on ebay and ...\n",
       "862961      pos                       @shezDOPEx3 i love you more \n",
       "122643      neg           @mahdi Maybe the problem is from my ISP "
      ]
     },
     "execution_count": 67,
     "metadata": {},
     "output_type": "execute_result"
    }
   ],
   "source": [
    "data['polarity'] = data.polarity.map(lambda x: 'neg' if x == 0 else 'pos')\n",
    "\n",
    "data[:5]"
   ]
  },
  {
   "cell_type": "markdown",
   "metadata": {},
   "source": [
    "#### Now, let's split the data into train, dev, and eval sets.\n",
    "\n",
    "First, let's break off 20% of the data and put that into a new dataframe"
   ]
  },
  {
   "cell_type": "code",
   "execution_count": 68,
   "metadata": {},
   "outputs": [
    {
     "data": {
      "text/html": [
       "<div>\n",
       "<style scoped>\n",
       "    .dataframe tbody tr th:only-of-type {\n",
       "        vertical-align: middle;\n",
       "    }\n",
       "\n",
       "    .dataframe tbody tr th {\n",
       "        vertical-align: top;\n",
       "    }\n",
       "\n",
       "    .dataframe thead th {\n",
       "        text-align: right;\n",
       "    }\n",
       "</style>\n",
       "<table border=\"1\" class=\"dataframe\">\n",
       "  <thead>\n",
       "    <tr style=\"text-align: right;\">\n",
       "      <th></th>\n",
       "      <th>polarity</th>\n",
       "      <th>tweet</th>\n",
       "    </tr>\n",
       "  </thead>\n",
       "  <tbody>\n",
       "    <tr>\n",
       "      <th>469413</th>\n",
       "      <td>neg</td>\n",
       "      <td>watching the hills..gonna go for a run after, ...</td>\n",
       "    </tr>\n",
       "    <tr>\n",
       "      <th>840219</th>\n",
       "      <td>pos</td>\n",
       "      <td>@craigsbeardwax It goes from curly to straight...</td>\n",
       "    </tr>\n",
       "    <tr>\n",
       "      <th>857686</th>\n",
       "      <td>pos</td>\n",
       "      <td>@zackalltimelow happy birthday zaaaaaack  i wi...</td>\n",
       "    </tr>\n",
       "    <tr>\n",
       "      <th>1159321</th>\n",
       "      <td>pos</td>\n",
       "      <td>@MarkDennehy Cool! Well if you're around, give...</td>\n",
       "    </tr>\n",
       "    <tr>\n",
       "      <th>1478364</th>\n",
       "      <td>pos</td>\n",
       "      <td>@DitaVonTeese thank you</td>\n",
       "    </tr>\n",
       "    <tr>\n",
       "      <th>673648</th>\n",
       "      <td>neg</td>\n",
       "      <td>i want to swim in the pool but i had my laundr...</td>\n",
       "    </tr>\n",
       "    <tr>\n",
       "      <th>910703</th>\n",
       "      <td>pos</td>\n",
       "      <td>@mileycyrus when u get a chance can u post a v...</td>\n",
       "    </tr>\n",
       "    <tr>\n",
       "      <th>916076</th>\n",
       "      <td>pos</td>\n",
       "      <td>Early morning walkies really aren't my thing.....</td>\n",
       "    </tr>\n",
       "    <tr>\n",
       "      <th>82384</th>\n",
       "      <td>neg</td>\n",
       "      <td>@ryanmwilson im just not feeling that great  j...</td>\n",
       "    </tr>\n",
       "    <tr>\n",
       "      <th>952693</th>\n",
       "      <td>pos</td>\n",
       "      <td>got my money and now playing some plants v zom...</td>\n",
       "    </tr>\n",
       "  </tbody>\n",
       "</table>\n",
       "</div>"
      ],
      "text/plain": [
       "        polarity                                              tweet\n",
       "469413       neg  watching the hills..gonna go for a run after, ...\n",
       "840219       pos  @craigsbeardwax It goes from curly to straight...\n",
       "857686       pos  @zackalltimelow happy birthday zaaaaaack  i wi...\n",
       "1159321      pos  @MarkDennehy Cool! Well if you're around, give...\n",
       "1478364      pos                           @DitaVonTeese thank you \n",
       "673648       neg  i want to swim in the pool but i had my laundr...\n",
       "910703       pos  @mileycyrus when u get a chance can u post a v...\n",
       "916076       pos  Early morning walkies really aren't my thing.....\n",
       "82384        neg  @ryanmwilson im just not feeling that great  j...\n",
       "952693       pos  got my money and now playing some plants v zom..."
      ]
     },
     "execution_count": 68,
     "metadata": {},
     "output_type": "execute_result"
    }
   ],
   "source": [
    "temp=data.sample(frac=0.2,random_state=200)\n",
    "\n",
    "temp[:10] # note that the temp dataframe retains the old index values"
   ]
  },
  {
   "cell_type": "markdown",
   "metadata": {},
   "source": [
    "We can remove those index values from the original data frame:"
   ]
  },
  {
   "cell_type": "code",
   "execution_count": 69,
   "metadata": {},
   "outputs": [],
   "source": [
    "train=data.drop(temp.index)"
   ]
  },
  {
   "cell_type": "markdown",
   "metadata": {},
   "source": [
    "Now we can split the temp data into two parts: dev and test/eval:"
   ]
  },
  {
   "cell_type": "code",
   "execution_count": 70,
   "metadata": {},
   "outputs": [],
   "source": [
    "dev=temp.sample(frac=0.5,random_state=200)\n",
    "test=temp.drop(dev.index)"
   ]
  },
  {
   "cell_type": "code",
   "execution_count": 71,
   "metadata": {},
   "outputs": [
    {
     "data": {
      "text/plain": [
       "(12803, 1600, 1601, 0.09997500624843789)"
      ]
     },
     "execution_count": 71,
     "metadata": {},
     "output_type": "execute_result"
    }
   ],
   "source": [
    "len(train), len(dev), len(test), len(dev) / len(data) # dev and test should be about the same, each at 10% of total"
   ]
  },
  {
   "cell_type": "markdown",
   "metadata": {},
   "source": [
    "#### Can we predict the sentiment just using the words of the tweet?"
   ]
  },
  {
   "cell_type": "code",
   "execution_count": 94,
   "metadata": {},
   "outputs": [],
   "source": [
    "'''\n",
    "    Given a dataframe with a 'tweet' and 'polarity' column, this will prepare the features for the classifier\n",
    "'''\n",
    "\n",
    "def prep_data(df):\n",
    "    df['split_tweet'] = df.tweet.map(lambda x: x.strip().lower().split())\n",
    "    #df['split_tweet'] = df.split_tweet.map(lambda x: [i for i in x if i not in stops])\n",
    "    #df['split_tweet'] = df.split_tweet.map(lambda x: [wnl.stem(i) for i in x])\n",
    "    df['feats'] = df['split_tweet'].map(lambda x: c.Counter(x))\n",
    "    return list(zip(df['feats'], df['polarity']))\n"
   ]
  },
  {
   "cell_type": "code",
   "execution_count": 95,
   "metadata": {},
   "outputs": [],
   "source": [
    "train_data = prep_data(train)\n",
    "classifier = NaiveBayesClassifier.train(train_data)"
   ]
  },
  {
   "cell_type": "code",
   "execution_count": 96,
   "metadata": {},
   "outputs": [
    {
     "data": {
      "text/plain": [
       "0.711875"
      ]
     },
     "execution_count": 96,
     "metadata": {},
     "output_type": "execute_result"
    }
   ],
   "source": [
    "dev_data = prep_data(dev)\n",
    "nltk.classify.util.accuracy(classifier, dev_data)"
   ]
  },
  {
   "cell_type": "markdown",
   "metadata": {},
   "source": [
    "Question:\n",
    "\n",
    "* This is good, right?\n",
    "\n",
    "Answer:\n",
    "\n",
    "* It all depends on your **baseline**. Since the neg/pos frequency is about 50/50, then we know our classifier is doing well when we are above that baseline. This is called the *most common* baseline (i.e., what is the accuracy of a random classifier that simple chooses the most common class label/type?) Right now we are about 26% above that baseline, so not bad. \n",
    "* Another kind of baseline is the *random* baseline which is basically 1/len(types) which in this case is 2. So the random baseline here is the same as the most common baseline beacuse it's a binary problem. If we had 4 possible types, then the random baseline would be 25%, but the most common baseline would be the relative frequency of the most common type in the training data. \n",
    "\n",
    "A better baseline is actually what we have above, which is our > 73% accuracy score. This is called a \"bag of words\" baseline. It uses the simplest features: words. Let's work from here to make our classifier work better. \n",
    "\n",
    "\n"
   ]
  },
  {
   "cell_type": "markdown",
   "metadata": {},
   "source": [
    "### Feature Engineering\n",
    "\n",
    "What is a **feature**? A feature is an individual measurable property of a phenomenon being observed. Choosing informative, discriminating and independent features is a crucial step for effective algorithms in pattern recognition, classification and regression. \n",
    "\n",
    "In other words, a **feature** corresponds to a value of a variable in the probability functions. A **feature type** corresponds to the variables themselves. \n",
    "\n",
    "For example, we wrote a function for `P(W)`. Where `W` is the feature type of word, and an individual feature is the value `the` that `W` can take. \n",
    "\n",
    "What are the features we've been using so far to get our > 73% above? We've been using the words as features.\n",
    "\n",
    "We can use words, but what else?\n",
    "\n",
    "Would stemming not help here, for example?"
   ]
  },
  {
   "cell_type": "code",
   "execution_count": 91,
   "metadata": {},
   "outputs": [
    {
     "data": {
      "text/html": [
       "<div>\n",
       "<style scoped>\n",
       "    .dataframe tbody tr th:only-of-type {\n",
       "        vertical-align: middle;\n",
       "    }\n",
       "\n",
       "    .dataframe tbody tr th {\n",
       "        vertical-align: top;\n",
       "    }\n",
       "\n",
       "    .dataframe thead th {\n",
       "        text-align: right;\n",
       "    }\n",
       "</style>\n",
       "<table border=\"1\" class=\"dataframe\">\n",
       "  <thead>\n",
       "    <tr style=\"text-align: right;\">\n",
       "      <th></th>\n",
       "      <th>polarity</th>\n",
       "      <th>tweet</th>\n",
       "      <th>split_tweet</th>\n",
       "      <th>feats</th>\n",
       "    </tr>\n",
       "  </thead>\n",
       "  <tbody>\n",
       "    <tr>\n",
       "      <th>888312</th>\n",
       "      <td>pos</td>\n",
       "      <td>Breaky burrito at Whole Foods is a good way to...</td>\n",
       "      <td>[breaky, burrito, at, whole, foods, is, a, goo...</td>\n",
       "      <td>{'breaky': 1, 'burrito': 1, 'at': 1, 'whole': ...</td>\n",
       "    </tr>\n",
       "    <tr>\n",
       "      <th>516573</th>\n",
       "      <td>neg</td>\n",
       "      <td>i'm out! gonna check my facebook. please!!!!!!...</td>\n",
       "      <td>[i'm, out!, gonna, check, my, facebook., pleas...</td>\n",
       "      <td>{'i'm': 1, 'out!': 1, 'gonna': 1, 'check': 1, ...</td>\n",
       "    </tr>\n",
       "    <tr>\n",
       "      <th>970735</th>\n",
       "      <td>pos</td>\n",
       "      <td>yay just won mac msf in petticoat on ebay and ...</td>\n",
       "      <td>[yay, just, won, mac, msf, in, petticoat, on, ...</td>\n",
       "      <td>{'yay': 1, 'just': 1, 'won': 1, 'mac': 1, 'msf...</td>\n",
       "    </tr>\n",
       "    <tr>\n",
       "      <th>862961</th>\n",
       "      <td>pos</td>\n",
       "      <td>@shezDOPEx3 i love you more</td>\n",
       "      <td>[@shezdopex3, i, love, you, more]</td>\n",
       "      <td>{'@shezdopex3': 1, 'i': 1, 'love': 1, 'you': 1...</td>\n",
       "    </tr>\n",
       "    <tr>\n",
       "      <th>122643</th>\n",
       "      <td>neg</td>\n",
       "      <td>@mahdi Maybe the problem is from my ISP</td>\n",
       "      <td>[@mahdi, maybe, the, problem, is, from, my, isp]</td>\n",
       "      <td>{'@mahdi': 1, 'maybe': 1, 'the': 1, 'problem':...</td>\n",
       "    </tr>\n",
       "  </tbody>\n",
       "</table>\n",
       "</div>"
      ],
      "text/plain": [
       "       polarity                                              tweet  \\\n",
       "888312      pos  Breaky burrito at Whole Foods is a good way to...   \n",
       "516573      neg  i'm out! gonna check my facebook. please!!!!!!...   \n",
       "970735      pos  yay just won mac msf in petticoat on ebay and ...   \n",
       "862961      pos                       @shezDOPEx3 i love you more    \n",
       "122643      neg           @mahdi Maybe the problem is from my ISP    \n",
       "\n",
       "                                              split_tweet  \\\n",
       "888312  [breaky, burrito, at, whole, foods, is, a, goo...   \n",
       "516573  [i'm, out!, gonna, check, my, facebook., pleas...   \n",
       "970735  [yay, just, won, mac, msf, in, petticoat, on, ...   \n",
       "862961                  [@shezdopex3, i, love, you, more]   \n",
       "122643   [@mahdi, maybe, the, problem, is, from, my, isp]   \n",
       "\n",
       "                                                    feats  \n",
       "888312  {'breaky': 1, 'burrito': 1, 'at': 1, 'whole': ...  \n",
       "516573  {'i'm': 1, 'out!': 1, 'gonna': 1, 'check': 1, ...  \n",
       "970735  {'yay': 1, 'just': 1, 'won': 1, 'mac': 1, 'msf...  \n",
       "862961  {'@shezdopex3': 1, 'i': 1, 'love': 1, 'you': 1...  \n",
       "122643  {'@mahdi': 1, 'maybe': 1, 'the': 1, 'problem':...  "
      ]
     },
     "execution_count": 91,
     "metadata": {},
     "output_type": "execute_result"
    }
   ],
   "source": [
    "import nltk\n",
    "import nltk.stem.snowball as stem\n",
    "\n",
    "wnl = stem.EnglishStemmer()\n",
    "\n",
    "train[:5]"
   ]
  },
  {
   "cell_type": "markdown",
   "metadata": {},
   "source": [
    "We can add a line like the one in the following cell to our `prep_data` function. \n",
    "\n",
    "Does it help to do stemming?"
   ]
  },
  {
   "cell_type": "code",
   "execution_count": 92,
   "metadata": {},
   "outputs": [],
   "source": [
    "train['stem_tweet'] = train.split_tweet.map(lambda x: [wnl.stem(i) for i in x])"
   ]
  },
  {
   "cell_type": "code",
   "execution_count": 51,
   "metadata": {},
   "outputs": [
    {
     "data": {
      "text/plain": [
       "(185336, 172158)"
      ]
     },
     "execution_count": 51,
     "metadata": {},
     "output_type": "execute_result"
    }
   ],
   "source": []
  },
  {
   "cell_type": "markdown",
   "metadata": {},
   "source": [
    "What about removing stop words?"
   ]
  },
  {
   "cell_type": "code",
   "execution_count": 53,
   "metadata": {},
   "outputs": [],
   "source": [
    "from nltk.corpus import stopwords\n",
    "stops = stopwords.words('english')\n",
    "\n",
    "#df['split_tweet'] = df.split_tweet.map(lambda x: [i for i in x if i not in stops])"
   ]
  },
  {
   "cell_type": "markdown",
   "metadata": {},
   "source": [
    "What about POS tagging? How should we treat the words and tags? As pairs (this yields about 63%)? As independent features?\n",
    " \n",
    "warning: using this takes a long time"
   ]
  },
  {
   "cell_type": "code",
   "execution_count": 35,
   "metadata": {},
   "outputs": [],
   "source": [
    "# df['split_tweet'] = df.tweet.map(lambda x: zip(nltk.pos_tag(x),x))"
   ]
  },
  {
   "cell_type": "markdown",
   "metadata": {},
   "source": [
    "What about considering bigrams instead of just unigrams?"
   ]
  },
  {
   "cell_type": "code",
   "execution_count": 36,
   "metadata": {
    "collapsed": true
   },
   "outputs": [],
   "source": [
    "# copy, shift, fill\n",
    "\n"
   ]
  },
  {
   "cell_type": "markdown",
   "metadata": {},
   "source": [
    "What else might help improve our scores? Could we use WordNet?\n",
    "\n",
    "Notes from Dr. K:\n",
    "\n",
    "  * Feature engineering is where ML and NLP come together: knowledge about how language works and how it can be analyzed and applied help us know what features might be applied. However, newer forms of ML including neural networks make it so some feature engineering is not neccesary (for better or for worse). We don't dicuss this any more in this course, but I wanted to make you aware of it. "
   ]
  },
  {
   "cell_type": "markdown",
   "metadata": {},
   "source": [
    "When we are done with feature engineering and are happy with our train/dev accuracy, then we can run our evaluation on the final test set:"
   ]
  },
  {
   "cell_type": "code",
   "execution_count": 37,
   "metadata": {},
   "outputs": [
    {
     "name": "stderr",
     "output_type": "stream",
     "text": [
      "/usr/local/lib/python3.5/dist-packages/ipykernel/__main__.py:6: SettingWithCopyWarning: \n",
      "A value is trying to be set on a copy of a slice from a DataFrame.\n",
      "Try using .loc[row_indexer,col_indexer] = value instead\n",
      "\n",
      "See the caveats in the documentation: http://pandas.pydata.org/pandas-docs/stable/indexing.html#indexing-view-versus-copy\n",
      "/usr/local/lib/python3.5/dist-packages/ipykernel/__main__.py:7: SettingWithCopyWarning: \n",
      "A value is trying to be set on a copy of a slice from a DataFrame.\n",
      "Try using .loc[row_indexer,col_indexer] = value instead\n",
      "\n",
      "See the caveats in the documentation: http://pandas.pydata.org/pandas-docs/stable/indexing.html#indexing-view-versus-copy\n"
     ]
    },
    {
     "data": {
      "text/plain": [
       "0.7436890777305674"
      ]
     },
     "execution_count": 37,
     "metadata": {},
     "output_type": "execute_result"
    }
   ],
   "source": [
    "train_data = prep_data(train)\n",
    "dev_data = prep_data(dev)\n",
    "classifier = NaiveBayesClassifier.train(train_data + dev_data) # note that now we can add train+dev for training\n",
    "\n",
    "test_data = prep_data(test)\n",
    "nltk.classify.util.accuracy(classifier, test_data)"
   ]
  },
  {
   "cell_type": "markdown",
   "metadata": {},
   "source": [
    "# 4. Cross-validation\n",
    "\n",
    "You might be thinking \"even though we randomly determined the split between test/dev/test, there are probably some anaomolies in the data that would cause bias. Some of the things we do to improve accuracy between the test/dev sets might not work for the held-out test set. Is there a way we can split the data multiple times and develop?\n",
    "\n",
    "Yes, this is called cross-validation. In cross-validation, we still need to break off a held-out test set for final evaluation. But the rest of the data is split between **folds** where one fold is used for dev testing and the other folds are used for training. For our above data, we could take 10% of it and save that in a held-out test set, then split the remaining data into 10 equal parts (i.e, folds). Then we can step through each part, train on the other 9 and evaluate on that one part. \n",
    "\n",
    "Note: if we split our data such that we train on everything except for a single data point for each fold, then we are conducing a type of cross-validation called **leave-one-out** where literally we \"leave one data point out\", train on the rest, then evaluate on that single data point. You can imagine that this could take a while depending on the size of the data set. \n",
    "\n",
    "We can use cross-validation for feature engineering, then when we are happy with the results we can evaluate on the held-oust test set. "
   ]
  },
  {
   "cell_type": "markdown",
   "metadata": {
    "collapsed": true
   },
   "source": [
    "# 5. Evaluating and analyzing our models\n",
    "\n",
    "So far we've only looked at accuracy to show how well a trained probability function like a Naive Bayes Classifier works with certain data. There are other ways to evaluate models that we will look at in future lectures.\n",
    "\n",
    "We will also look at other ways to analyze our models and the results that they give in future lectures. "
   ]
  },
  {
   "cell_type": "code",
   "execution_count": null,
   "metadata": {
    "collapsed": true
   },
   "outputs": [],
   "source": []
  }
 ],
 "metadata": {
  "kernelspec": {
   "display_name": "Python 3",
   "language": "python",
   "name": "python3"
  },
  "language_info": {
   "codemirror_mode": {
    "name": "ipython",
    "version": 3
   },
   "file_extension": ".py",
   "mimetype": "text/x-python",
   "name": "python",
   "nbconvert_exporter": "python",
   "pygments_lexer": "ipython3",
   "version": "3.6.5"
  }
 },
 "nbformat": 4,
 "nbformat_minor": 1
}
