{
 "cells": [
  {
   "cell_type": "code",
   "execution_count": 66,
   "metadata": {
    "collapsed": false
   },
   "outputs": [],
   "source": [
    "import pandas as pd\n",
    "import numpy as np"
   ]
  },
  {
   "cell_type": "code",
   "execution_count": 67,
   "metadata": {
    "collapsed": true
   },
   "outputs": [],
   "source": [
    "data = pd.read_csv('features.txt', delimiter='\\t')"
   ]
  },
  {
   "cell_type": "markdown",
   "metadata": {},
   "source": [
    "### Read in and munge the scene representations"
   ]
  },
  {
   "cell_type": "code",
   "execution_count": 68,
   "metadata": {
    "collapsed": false
   },
   "outputs": [],
   "source": [
    "# we don't need all of these categorical features\n",
    "data.drop(['f', 'i', 'l', 'n', 'p', 't', 'u', '_v', 'w', 'x', 'y', 'z',\n",
    "       'blue', 'brown', 'gray', 'green', 'orange', 'pink', 'purple', 'red',\n",
    "       'yellow', 'id', 'position'], axis=1, inplace=True)"
   ]
  },
  {
   "cell_type": "code",
   "execution_count": 69,
   "metadata": {
    "collapsed": false
   },
   "outputs": [],
   "source": [
    "# make h_skew and v_skew into 1-hot columns\n",
    "data['imageid'] = data.imageid.map(lambda x: x.split('.')[0])\n",
    "discrete_cols = ['h_skew', 'v_skew']\n",
    "data = pd.get_dummies(data = data, columns = discrete_cols)\n",
    "\n",
    "# add a feature that is distance from \"center\" (i.e., a stationary point)\n",
    "from scipy.spatial import distance\n",
    "center = (0,0)\n",
    "data['c_diff'] = data.apply(lambda x: distance.euclidean(center, (x['pos_x'], x['pos_y'])), axis=1)"
   ]
  },
  {
   "cell_type": "code",
   "execution_count": 70,
   "metadata": {
    "collapsed": false
   },
   "outputs": [
    {
     "data": {
      "text/plain": [
       "Index(['pieceid', 'imageid', 'episodeid', 'r', 'g', 'b', 'h', 's', 'v',\n",
       "       'orientation', 'num_edges', 'pos_x', 'pos_y', 'h_skew_left-skewed',\n",
       "       'h_skew_right-skewed', 'h_skew_symmetric', 'v_skew_bottom-skewed',\n",
       "       'v_skew_symmetric', 'v_skew_top-skewed', 'c_diff'],\n",
       "      dtype='object')"
      ]
     },
     "execution_count": 70,
     "metadata": {},
     "output_type": "execute_result"
    }
   ],
   "source": [
    "data.columns"
   ]
  },
  {
   "cell_type": "code",
   "execution_count": 71,
   "metadata": {
    "collapsed": false
   },
   "outputs": [
    {
     "data": {
      "text/html": [
       "<div>\n",
       "<table border=\"1\" class=\"dataframe\">\n",
       "  <thead>\n",
       "    <tr style=\"text-align: right;\">\n",
       "      <th></th>\n",
       "      <th>pieceid</th>\n",
       "      <th>imageid</th>\n",
       "      <th>episodeid</th>\n",
       "      <th>r</th>\n",
       "      <th>g</th>\n",
       "      <th>b</th>\n",
       "      <th>h</th>\n",
       "      <th>s</th>\n",
       "      <th>v</th>\n",
       "      <th>orientation</th>\n",
       "      <th>num_edges</th>\n",
       "      <th>pos_x</th>\n",
       "      <th>pos_y</th>\n",
       "      <th>h_skew_left-skewed</th>\n",
       "      <th>h_skew_right-skewed</th>\n",
       "      <th>h_skew_symmetric</th>\n",
       "      <th>v_skew_bottom-skewed</th>\n",
       "      <th>v_skew_symmetric</th>\n",
       "      <th>v_skew_top-skewed</th>\n",
       "      <th>c_diff</th>\n",
       "    </tr>\n",
       "  </thead>\n",
       "  <tbody>\n",
       "    <tr>\n",
       "      <th>0</th>\n",
       "      <td>0</td>\n",
       "      <td>1</td>\n",
       "      <td>Set0/1</td>\n",
       "      <td>86.480225</td>\n",
       "      <td>57.164215</td>\n",
       "      <td>46.304261</td>\n",
       "      <td>8.293657</td>\n",
       "      <td>127.795376</td>\n",
       "      <td>86.661635</td>\n",
       "      <td>5.742743</td>\n",
       "      <td>8</td>\n",
       "      <td>199</td>\n",
       "      <td>164</td>\n",
       "      <td>0</td>\n",
       "      <td>1</td>\n",
       "      <td>0</td>\n",
       "      <td>1</td>\n",
       "      <td>0</td>\n",
       "      <td>0</td>\n",
       "      <td>257.870122</td>\n",
       "    </tr>\n",
       "    <tr>\n",
       "      <th>1</th>\n",
       "      <td>0</td>\n",
       "      <td>2</td>\n",
       "      <td>Set0/1</td>\n",
       "      <td>79.555440</td>\n",
       "      <td>74.452909</td>\n",
       "      <td>59.535351</td>\n",
       "      <td>22.514740</td>\n",
       "      <td>74.233586</td>\n",
       "      <td>79.337073</td>\n",
       "      <td>41.519360</td>\n",
       "      <td>10</td>\n",
       "      <td>222</td>\n",
       "      <td>159</td>\n",
       "      <td>1</td>\n",
       "      <td>0</td>\n",
       "      <td>0</td>\n",
       "      <td>0</td>\n",
       "      <td>0</td>\n",
       "      <td>1</td>\n",
       "      <td>273.065926</td>\n",
       "    </tr>\n",
       "    <tr>\n",
       "      <th>2</th>\n",
       "      <td>0</td>\n",
       "      <td>3</td>\n",
       "      <td>Set0/1</td>\n",
       "      <td>130.428545</td>\n",
       "      <td>111.250280</td>\n",
       "      <td>86.211567</td>\n",
       "      <td>17.137593</td>\n",
       "      <td>94.268750</td>\n",
       "      <td>131.000560</td>\n",
       "      <td>-7.716261</td>\n",
       "      <td>12</td>\n",
       "      <td>203</td>\n",
       "      <td>161</td>\n",
       "      <td>0</td>\n",
       "      <td>0</td>\n",
       "      <td>1</td>\n",
       "      <td>1</td>\n",
       "      <td>0</td>\n",
       "      <td>0</td>\n",
       "      <td>259.094577</td>\n",
       "    </tr>\n",
       "    <tr>\n",
       "      <th>3</th>\n",
       "      <td>0</td>\n",
       "      <td>4</td>\n",
       "      <td>Set0/1</td>\n",
       "      <td>69.591751</td>\n",
       "      <td>55.848775</td>\n",
       "      <td>83.484260</td>\n",
       "      <td>135.273859</td>\n",
       "      <td>92.572226</td>\n",
       "      <td>83.479976</td>\n",
       "      <td>-21.408810</td>\n",
       "      <td>8</td>\n",
       "      <td>222</td>\n",
       "      <td>151</td>\n",
       "      <td>0</td>\n",
       "      <td>0</td>\n",
       "      <td>1</td>\n",
       "      <td>0</td>\n",
       "      <td>0</td>\n",
       "      <td>1</td>\n",
       "      <td>268.486499</td>\n",
       "    </tr>\n",
       "    <tr>\n",
       "      <th>4</th>\n",
       "      <td>0</td>\n",
       "      <td>5</td>\n",
       "      <td>Set0/1</td>\n",
       "      <td>36.108723</td>\n",
       "      <td>79.887808</td>\n",
       "      <td>112.033928</td>\n",
       "      <td>102.723919</td>\n",
       "      <td>177.755478</td>\n",
       "      <td>112.230646</td>\n",
       "      <td>42.677817</td>\n",
       "      <td>6</td>\n",
       "      <td>220</td>\n",
       "      <td>169</td>\n",
       "      <td>1</td>\n",
       "      <td>0</td>\n",
       "      <td>0</td>\n",
       "      <td>0</td>\n",
       "      <td>0</td>\n",
       "      <td>1</td>\n",
       "      <td>277.418456</td>\n",
       "    </tr>\n",
       "  </tbody>\n",
       "</table>\n",
       "</div>"
      ],
      "text/plain": [
       "   pieceid imageid episodeid           r           g           b           h  \\\n",
       "0        0       1    Set0/1   86.480225   57.164215   46.304261    8.293657   \n",
       "1        0       2    Set0/1   79.555440   74.452909   59.535351   22.514740   \n",
       "2        0       3    Set0/1  130.428545  111.250280   86.211567   17.137593   \n",
       "3        0       4    Set0/1   69.591751   55.848775   83.484260  135.273859   \n",
       "4        0       5    Set0/1   36.108723   79.887808  112.033928  102.723919   \n",
       "\n",
       "            s           v  orientation  num_edges  pos_x  pos_y  \\\n",
       "0  127.795376   86.661635     5.742743          8    199    164   \n",
       "1   74.233586   79.337073    41.519360         10    222    159   \n",
       "2   94.268750  131.000560    -7.716261         12    203    161   \n",
       "3   92.572226   83.479976   -21.408810          8    222    151   \n",
       "4  177.755478  112.230646    42.677817          6    220    169   \n",
       "\n",
       "   h_skew_left-skewed  h_skew_right-skewed  h_skew_symmetric  \\\n",
       "0                   0                    1                 0   \n",
       "1                   1                    0                 0   \n",
       "2                   0                    0                 1   \n",
       "3                   0                    0                 1   \n",
       "4                   1                    0                 0   \n",
       "\n",
       "   v_skew_bottom-skewed  v_skew_symmetric  v_skew_top-skewed      c_diff  \n",
       "0                     1                 0                  0  257.870122  \n",
       "1                     0                 0                  1  273.065926  \n",
       "2                     1                 0                  0  259.094577  \n",
       "3                     0                 0                  1  268.486499  \n",
       "4                     0                 0                  1  277.418456  "
      ]
     },
     "execution_count": 71,
     "metadata": {},
     "output_type": "execute_result"
    }
   ],
   "source": [
    "data[:5]"
   ]
  },
  {
   "cell_type": "markdown",
   "metadata": {},
   "source": [
    "### Read in and munge the referring expressions"
   ]
  },
  {
   "cell_type": "code",
   "execution_count": 72,
   "metadata": {
    "collapsed": true
   },
   "outputs": [],
   "source": [
    "res = pd.read_csv('segmented-labeled.txt', delimiter='\\t')"
   ]
  },
  {
   "cell_type": "code",
   "execution_count": 73,
   "metadata": {
    "collapsed": false
   },
   "outputs": [],
   "source": [
    "res['episodeid'] = res.imageurl.map(lambda x: '/'.join(x.split('/')[2:4]))\n",
    "res['imageid'] = res.imageurl.map(lambda x: x.split('/')[4].split('.')[0])"
   ]
  },
  {
   "cell_type": "code",
   "execution_count": 74,
   "metadata": {
    "collapsed": false
   },
   "outputs": [],
   "source": [
    "# split up the referring expressions into individual rows\n",
    "res['originaltext'] = res.originaltext.map(lambda x: x.lower().split(';'))\n",
    "s = res.originaltext.apply(lambda x: pd.Series(x)).stack().reset_index(level=1,drop=True)\n",
    "s.name = 'refexp'\n",
    "res = res.drop('originaltext', axis=1).join(s)\n",
    "# remove empties; only consider annotated referring expressions\n",
    "res = res[res.refexp != '']\n",
    "res = res[res.refexp.str.contains(':')] # the colon separates the target from the referring expression"
   ]
  },
  {
   "cell_type": "code",
   "execution_count": 75,
   "metadata": {
    "collapsed": false
   },
   "outputs": [],
   "source": [
    "# we don't need these columns\n",
    "res.drop(['masteraudiourl', 'audiourl', 'nextaudiourl', 'imageurl'], axis=1, inplace=True)"
   ]
  },
  {
   "cell_type": "code",
   "execution_count": 76,
   "metadata": {
    "collapsed": false
   },
   "outputs": [
    {
     "data": {
      "text/plain": [
       "Index(['id', 'episodeid', 'imageid', 'refexp'], dtype='object')"
      ]
     },
     "execution_count": 76,
     "metadata": {},
     "output_type": "execute_result"
    }
   ],
   "source": [
    "res.columns"
   ]
  },
  {
   "cell_type": "code",
   "execution_count": 77,
   "metadata": {
    "collapsed": false
   },
   "outputs": [],
   "source": [
    "res['target'] = res.refexp.map(lambda x: x.split(':')[0].strip())\n",
    "res['refexp'] = res.refexp.map(lambda x: x.split(':')[1].strip())"
   ]
  },
  {
   "cell_type": "code",
   "execution_count": 78,
   "metadata": {
    "collapsed": false
   },
   "outputs": [],
   "source": [
    "res = res[~res.target.str.contains('ot')] # we don't want OTs hanging around since they don't refer to anything\n",
    "res = res[~res.target.str.contains('unk')] # unk is useless too, so remove all of those"
   ]
  },
  {
   "cell_type": "code",
   "execution_count": 79,
   "metadata": {
    "collapsed": false
   },
   "outputs": [
    {
     "data": {
      "text/html": [
       "<div>\n",
       "<table border=\"1\" class=\"dataframe\">\n",
       "  <thead>\n",
       "    <tr style=\"text-align: right;\">\n",
       "      <th></th>\n",
       "      <th>id</th>\n",
       "      <th>episodeid</th>\n",
       "      <th>imageid</th>\n",
       "      <th>refexp</th>\n",
       "      <th>target</th>\n",
       "    </tr>\n",
       "  </thead>\n",
       "  <tbody>\n",
       "    <tr>\n",
       "      <th>3</th>\n",
       "      <td>4</td>\n",
       "      <td>Set0/1</td>\n",
       "      <td>8</td>\n",
       "      <td>[like, off, to, the, left, like, a, reverse, l]</td>\n",
       "      <td>0</td>\n",
       "    </tr>\n",
       "  </tbody>\n",
       "</table>\n",
       "</div>"
      ],
      "text/plain": [
       "   id episodeid imageid                                           refexp  \\\n",
       "3   4    Set0/1       8  [like, off, to, the, left, like, a, reverse, l]   \n",
       "\n",
       "   target  \n",
       "3       0  "
      ]
     },
     "execution_count": 79,
     "metadata": {},
     "output_type": "execute_result"
    }
   ],
   "source": [
    "res['target'] = pd.to_numeric(res.target, errors='coerce') # converts non-numbers to NaN\n",
    "res.dropna(inplace=True) # remove those non-number targets\n",
    "res['target'] = res.target.map(lambda x: np.int32(x)) \n",
    "res['refexp'] = res.refexp.map(lambda x: x.lower().split())\n",
    "\n",
    "res[res.id == 4]"
   ]
  },
  {
   "cell_type": "code",
   "execution_count": 80,
   "metadata": {
    "collapsed": false
   },
   "outputs": [],
   "source": [
    "# melt the words array in refexp into individual rows\n",
    "s = res.refexp.apply(lambda x: pd.Series(x)).stack().reset_index(level=1,drop=True)\n",
    "s.name = 'word'\n",
    "res = res.drop('refexp', axis=1).join(s)"
   ]
  },
  {
   "cell_type": "code",
   "execution_count": 81,
   "metadata": {
    "collapsed": false
   },
   "outputs": [
    {
     "data": {
      "text/html": [
       "<div>\n",
       "<table border=\"1\" class=\"dataframe\">\n",
       "  <thead>\n",
       "    <tr style=\"text-align: right;\">\n",
       "      <th></th>\n",
       "      <th>id</th>\n",
       "      <th>episodeid</th>\n",
       "      <th>imageid</th>\n",
       "      <th>target</th>\n",
       "      <th>word</th>\n",
       "    </tr>\n",
       "  </thead>\n",
       "  <tbody>\n",
       "    <tr>\n",
       "      <th>3</th>\n",
       "      <td>4</td>\n",
       "      <td>Set0/1</td>\n",
       "      <td>8</td>\n",
       "      <td>0</td>\n",
       "      <td>like</td>\n",
       "    </tr>\n",
       "    <tr>\n",
       "      <th>3</th>\n",
       "      <td>4</td>\n",
       "      <td>Set0/1</td>\n",
       "      <td>8</td>\n",
       "      <td>0</td>\n",
       "      <td>off</td>\n",
       "    </tr>\n",
       "    <tr>\n",
       "      <th>3</th>\n",
       "      <td>4</td>\n",
       "      <td>Set0/1</td>\n",
       "      <td>8</td>\n",
       "      <td>0</td>\n",
       "      <td>to</td>\n",
       "    </tr>\n",
       "    <tr>\n",
       "      <th>3</th>\n",
       "      <td>4</td>\n",
       "      <td>Set0/1</td>\n",
       "      <td>8</td>\n",
       "      <td>0</td>\n",
       "      <td>the</td>\n",
       "    </tr>\n",
       "    <tr>\n",
       "      <th>3</th>\n",
       "      <td>4</td>\n",
       "      <td>Set0/1</td>\n",
       "      <td>8</td>\n",
       "      <td>0</td>\n",
       "      <td>left</td>\n",
       "    </tr>\n",
       "    <tr>\n",
       "      <th>3</th>\n",
       "      <td>4</td>\n",
       "      <td>Set0/1</td>\n",
       "      <td>8</td>\n",
       "      <td>0</td>\n",
       "      <td>like</td>\n",
       "    </tr>\n",
       "    <tr>\n",
       "      <th>3</th>\n",
       "      <td>4</td>\n",
       "      <td>Set0/1</td>\n",
       "      <td>8</td>\n",
       "      <td>0</td>\n",
       "      <td>a</td>\n",
       "    </tr>\n",
       "    <tr>\n",
       "      <th>3</th>\n",
       "      <td>4</td>\n",
       "      <td>Set0/1</td>\n",
       "      <td>8</td>\n",
       "      <td>0</td>\n",
       "      <td>reverse</td>\n",
       "    </tr>\n",
       "    <tr>\n",
       "      <th>3</th>\n",
       "      <td>4</td>\n",
       "      <td>Set0/1</td>\n",
       "      <td>8</td>\n",
       "      <td>0</td>\n",
       "      <td>l</td>\n",
       "    </tr>\n",
       "  </tbody>\n",
       "</table>\n",
       "</div>"
      ],
      "text/plain": [
       "   id episodeid imageid  target     word\n",
       "3   4    Set0/1       8       0     like\n",
       "3   4    Set0/1       8       0      off\n",
       "3   4    Set0/1       8       0       to\n",
       "3   4    Set0/1       8       0      the\n",
       "3   4    Set0/1       8       0     left\n",
       "3   4    Set0/1       8       0     like\n",
       "3   4    Set0/1       8       0        a\n",
       "3   4    Set0/1       8       0  reverse\n",
       "3   4    Set0/1       8       0        l"
      ]
     },
     "execution_count": 81,
     "metadata": {},
     "output_type": "execute_result"
    }
   ],
   "source": [
    "res[res.id == 4]"
   ]
  },
  {
   "cell_type": "code",
   "execution_count": 96,
   "metadata": {
    "collapsed": true
   },
   "outputs": [],
   "source": [
    "# save the data to respective pickles\n",
    "\n",
    "data.to_pickle('scenedata.pkl')\n",
    "res.to_pickle('refexpdata.pkl')"
   ]
  }
 ],
 "metadata": {
  "kernelspec": {
   "display_name": "Python 3",
   "language": "python",
   "name": "python3"
  },
  "language_info": {
   "codemirror_mode": {
    "name": "ipython",
    "version": 3
   },
   "file_extension": ".py",
   "mimetype": "text/x-python",
   "name": "python",
   "nbconvert_exporter": "python",
   "pygments_lexer": "ipython3",
   "version": "3.5.2"
  }
 },
 "nbformat": 4,
 "nbformat_minor": 1
}
